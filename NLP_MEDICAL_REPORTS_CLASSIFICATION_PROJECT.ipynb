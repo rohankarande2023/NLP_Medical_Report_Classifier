{
 "cells": [
  {
   "cell_type": "markdown",
   "id": "95eaf10a",
   "metadata": {},
   "source": [
    "# NLP: MEDICAL ABSTRACTS CLASSIFICATION\n",
    "\n",
    "In this project, we're going to be replicating the deep learning model behind the 2017 paper [*PubMed 200k RCT: a Dataset for Sequenctial Sentence Classification in Medical Abstracts*](https://arxiv.org/abs/1710.06071).\n",
    "\n",
    "When it was released, the paper presented a new dataset called PubMed 200k RCT which consists of ~200,000 labelled Randomized Controlled Trial (RCT) abstracts.\n",
    "\n",
    "The goal of the dataset was to explore the ability for NLP models to classify sentences which appear in sequential order.\n",
    "\n",
    "In other words, given the abstract of a RCT, what role does each sentence serve in the abstract?\n",
    "\n",
    "![Skimlit example inputs and outputs](https://raw.githubusercontent.com/mrdbourke/tensorflow-deep-learning/main/images/09-skimlit-overview-input-and-output.png)\n",
    "\n",
    "*Example inputs ([harder to read abstract from PubMed](https://pubmed.ncbi.nlm.nih.gov/28942748/)) and outputs ([easier to read abstract](https://pubmed.ncbi.nlm.nih.gov/32537182/)) of the model we're going to build. The model will take an abstract wall of text and predict the section label each sentence should have.*  \n",
    "\n",
    "### Model Input\n",
    "\n",
    "For example, can we train an NLP model which takes the following input (note: the following sample has had all numerical symbols replaced with \"@\"):\n",
    "\n",
    "> To investigate the efficacy of @ weeks of daily low-dose oral prednisolone in improving pain , mobility , and systemic low-grade inflammation in the short term and whether the effect would be sustained at @ weeks in older adults with moderate to severe knee osteoarthritis ( OA ). A total of @ patients with primary knee OA were randomized @:@ ; @ received @ mg/day of prednisolone and @ received placebo for @ weeks. Outcome measures included pain reduction and improvement in function scores and systemic inflammation markers. Pain was assessed using the visual analog pain scale ( @-@ mm ).\n",
    "Secondary outcome measures included the Western Ontario and McMaster Universities Osteoarthritis Index scores , patient global assessment ( PGA ) of the severity of knee OA , and @-min walk distance ( @MWD ).,\n",
    "Serum levels of interleukin @ ( IL-@ ) , IL-@ , tumor necrosis factor ( TNF ) - , and high-sensitivity C-reactive protein ( hsCRP ) were measured.\n",
    "There was a clinically relevant reduction in the intervention group compared to the placebo group for knee pain , physical function , PGA , and @MWD at @ weeks. The mean difference between treatment arms ( @ % CI ) was @ ( @-@ @ ) , p < @ ; @ ( @-@ @ ) , p < @ ; @ ( @-@ @ ) , p < @ ; and @ ( @-@ @ ) , p < @ , respectively. Further , there was a clinically relevant reduction in the serum levels of IL-@ , IL-@ , TNF - , and hsCRP at @ weeks in the intervention group when compared to the placebo group. These differences remained significant at @ weeks. The Outcome Measures in Rheumatology Clinical Trials-Osteoarthritis Research Society International responder rate was @ % in the intervention group and @ % in the placebo group ( p < @ ). Low-dose oral prednisolone had both a short-term and a longer sustained effect resulting in less knee pain , better physical function , and attenuation of systemic inflammation in older patients with knee OA ( ClinicalTrials.gov identifier NCT@ ).\n",
    "\n",
    "### Model output\n",
    "\n",
    "And returns the following output:\n",
    "\n",
    "```\n",
    "['###24293578\\n',\n",
    " 'OBJECTIVE\\tTo investigate the efficacy of @ weeks of daily low-dose oral prednisolone in improving pain , mobility , and systemic low-grade inflammation in the short term and whether the effect would be sustained at @ weeks in older adults with moderate to severe knee osteoarthritis ( OA ) .\\n',\n",
    " 'METHODS\\tA total of @ patients with primary knee OA were randomized @:@ ; @ received @ mg/day of prednisolone and @ received placebo for @ weeks .\\n',\n",
    " 'METHODS\\tOutcome measures included pain reduction and improvement in function scores and systemic inflammation markers .\\n',\n",
    " 'METHODS\\tPain was assessed using the visual analog pain scale ( @-@ mm ) .\\n',\n",
    " 'METHODS\\tSecondary outcome measures included the Western Ontario and McMaster Universities Osteoarthritis Index scores , patient global assessment ( PGA ) of the severity of knee OA , and @-min walk distance ( @MWD ) .\\n',\n",
    " 'METHODS\\tSerum levels of interleukin @ ( IL-@ ) , IL-@ , tumor necrosis factor ( TNF ) - , and high-sensitivity C-reactive protein ( hsCRP ) were measured .\\n',\n",
    " 'RESULTS\\tThere was a clinically relevant reduction in the intervention group compared to the placebo group for knee pain , physical function , PGA , and @MWD at @ weeks .\\n',\n",
    " 'RESULTS\\tThe mean difference between treatment arms ( @ % CI ) was @ ( @-@ @ ) , p < @ ; @ ( @-@ @ ) , p < @ ; @ ( @-@ @ ) , p < @ ; and @ ( @-@ @ ) , p < @ , respectively .\\n',\n",
    " 'RESULTS\\tFurther , there was a clinically relevant reduction in the serum levels of IL-@ , IL-@ , TNF - , and hsCRP at @ weeks in the intervention group when compared to the placebo group .\\n',\n",
    " 'RESULTS\\tThese differences remained significant at @ weeks .\\n',\n",
    " 'RESULTS\\tThe Outcome Measures in Rheumatology Clinical Trials-Osteoarthritis Research Society International responder rate was @ % in the intervention group and @ % in the placebo group ( p < @ ) .\\n',\n",
    " 'CONCLUSIONS\\tLow-dose oral prednisolone had both a short-term and a longer sustained effect resulting in less knee pain , better physical function , and attenuation of systemic inflammation in older patients with knee OA ( ClinicalTrials.gov identifier NCT@ ) .\\n',\n",
    " '\\n']\n",
    " ```\n",
    "\n",
    "### Problem in a sentence\n",
    "\n",
    "The number of RCT papers released is continuing to increase, those without structured abstracts can be hard to read and in turn slow down researchers moving through the literature. \n",
    "\n",
    "### Solution in a sentence\n",
    "\n",
    "Create an NLP model to classify abstract sentences into the role they play (e.g. objective, methods, results, etc)  to enable researchers to skim through the literature (hence SkimLit 🤓🔥) and dive deeper when necessary.\n",
    "\n",
    "> 📖 **Resources:** Before going through the code in this notebook, you might want to get a background of what we're going to be doing. To do so, spend an hour (or two) going through the following papers and then return to this notebook:\n",
    "1. Where our data is coming from: [*PubMed 200k RCT: a Dataset for Sequential Sentence Classification in Medical Abstracts*](https://arxiv.org/abs/1710.06071)\n",
    "2. Where our model is coming from: [*Neural networks for joint sentence\n",
    "classification in medical paper abstracts*](https://arxiv.org/pdf/1612.05251.pdf).\n",
    "\n",
    "## Workflow to build the NLP Classifer\n",
    "\n",
    "* Downloading a text dataset ([PubMed RCT200k from GitHub](https://github.com/Franck-Dernoncourt/pubmed-rct))\n",
    "* Writing a preprocessing function to prepare our data for modelling\n",
    "* Setting up a series of modelling experiments\n",
    "  * Making a baseline (TF-IDF classifier)\n",
    "  * Deep models with different combinations of: token embeddings, character embeddings, pretrained embeddings, positional embeddings\n",
    "* Building our first multimodal model (taking multiple types of data inputs)\n",
    "  * Replicating the model architecture from https://arxiv.org/abs/1612.05251\n",
    "* Find the most wrong predictions\n",
    "* Making predictions on PubMed abstracts from the wild\n"
   ]
  },
  {
   "cell_type": "code",
   "execution_count": null,
   "id": "287b5130",
   "metadata": {},
   "outputs": [],
   "source": [
    "import tensorflow as tf\n",
    "import pandas as pd\n",
    "import numpy as np\n",
    "import matplotlib.pyplot as plt"
   ]
  },
  {
   "cell_type": "code",
   "execution_count": 116,
   "id": "67ffe812",
   "metadata": {},
   "outputs": [
    {
     "name": "stderr",
     "output_type": "stream",
     "text": [
      "fatal: destination path 'pubmed-rct' already exists and is not an empty directory.\n"
     ]
    }
   ],
   "source": [
    "!git clone https://github.com/Franck-Dernoncourt/pubmed-rct.git"
   ]
  },
  {
   "cell_type": "code",
   "execution_count": 117,
   "id": "1b78eae3",
   "metadata": {},
   "outputs": [
    {
     "name": "stdout",
     "output_type": "stream",
     "text": [
      " Volume in drive C is Windows\n",
      " Volume Serial Number is 123E-3A36\n",
      "\n",
      " Directory of C:\\Users\\rohan\\pubmed-rct\n",
      "\n",
      "11/02/2023  12:09 PM    <DIR>          .\n",
      "11/08/2023  04:13 PM    <DIR>          ..\n",
      "11/02/2023  12:08 PM    <DIR>          PubMed_200k_RCT\n",
      "11/07/2023  07:18 PM    <DIR>          PubMed_200k_RCT_numbers_replaced_with_at_sign\n",
      "11/02/2023  12:08 PM    <DIR>          PubMed_20k_RCT\n",
      "11/02/2023  12:08 PM    <DIR>          PubMed_20k_RCT_numbers_replaced_with_at_sign\n",
      "11/02/2023  12:09 PM             3,733 README.md\n",
      "               1 File(s)          3,733 bytes\n",
      "               6 Dir(s)  287,530,381,312 bytes free\n"
     ]
    }
   ],
   "source": [
    "!dir pubmed-rct"
   ]
  },
  {
   "cell_type": "code",
   "execution_count": 118,
   "id": "141cf4ac",
   "metadata": {},
   "outputs": [
    {
     "name": "stdout",
     "output_type": "stream",
     "text": [
      " Volume in drive C is Windows\n",
      " Volume Serial Number is 123E-3A36\n",
      "\n",
      " Directory of C:\\Users\\rohan\\pubmed-rct\\PubMed_20k_RCT_numbers_replaced_with_at_sign\n",
      "\n",
      "11/02/2023  12:08 PM    <DIR>          .\n",
      "11/02/2023  12:09 PM    <DIR>          ..\n",
      "11/02/2023  12:08 PM         4,880,409 dev.txt\n",
      "11/02/2023  12:08 PM         4,846,504 test.txt\n",
      "11/02/2023  12:08 PM        29,118,832 train.txt\n",
      "               3 File(s)     38,845,745 bytes\n",
      "               2 Dir(s)  287,530,385,408 bytes free\n"
     ]
    }
   ],
   "source": [
    "# Check files in PubMed_20K_RCT\n",
    "\n",
    "!dir pubmed-rct\\PubMed_20k_RCT_numbers_replaced_with_at_sign"
   ]
  },
  {
   "cell_type": "code",
   "execution_count": 119,
   "id": "dc72e630",
   "metadata": {},
   "outputs": [],
   "source": [
    "# Start Experiment using the 20K dataset with numbers replaced by '@' sign\n",
    "\n",
    "data_dir='pubmed-rct/PubMed_20k_RCT_numbers_replaced_with_at_sign/'"
   ]
  },
  {
   "cell_type": "code",
   "execution_count": 120,
   "id": "a2821dc6",
   "metadata": {},
   "outputs": [
    {
     "data": {
      "text/plain": [
       "['pubmed-rct/PubMed_20k_RCT_numbers_replaced_with_at_sign/dev.txt',\n",
       " 'pubmed-rct/PubMed_20k_RCT_numbers_replaced_with_at_sign/test.txt',\n",
       " 'pubmed-rct/PubMed_20k_RCT_numbers_replaced_with_at_sign/train.txt']"
      ]
     },
     "execution_count": 120,
     "metadata": {},
     "output_type": "execute_result"
    }
   ],
   "source": [
    "# Check all the filenames in the target directory\n",
    "\n",
    "import os\n",
    "filenames = [data_dir + filename for filename in os.listdir(data_dir)]\n",
    "filenames"
   ]
  },
  {
   "cell_type": "markdown",
   "id": "49232c43",
   "metadata": {},
   "source": [
    "# Preprocess Data"
   ]
  },
  {
   "cell_type": "code",
   "execution_count": 121,
   "id": "22ca51c3",
   "metadata": {},
   "outputs": [],
   "source": [
    "# Write a function to read all lines from the document\n",
    "\n",
    "def get_lines(filename):\n",
    "    with open(filename, 'r') as f:\n",
    "        return f.readlines()\n",
    "\n",
    "\n",
    "# Readlines in training dataset\n",
    "\n",
    "train_lines=get_lines(data_dir+'train.txt')\n"
   ]
  },
  {
   "cell_type": "code",
   "execution_count": 122,
   "id": "538ed744",
   "metadata": {},
   "outputs": [
    {
     "data": {
      "text/plain": [
       "['###24293578\\n',\n",
       " 'OBJECTIVE\\tTo investigate the efficacy of @ weeks of daily low-dose oral prednisolone in improving pain , mobility , and systemic low-grade inflammation in the short term and whether the effect would be sustained at @ weeks in older adults with moderate to severe knee osteoarthritis ( OA ) .\\n',\n",
       " 'METHODS\\tA total of @ patients with primary knee OA were randomized @:@ ; @ received @ mg/day of prednisolone and @ received placebo for @ weeks .\\n',\n",
       " 'METHODS\\tOutcome measures included pain reduction and improvement in function scores and systemic inflammation markers .\\n',\n",
       " 'METHODS\\tPain was assessed using the visual analog pain scale ( @-@ mm ) .\\n',\n",
       " 'METHODS\\tSecondary outcome measures included the Western Ontario and McMaster Universities Osteoarthritis Index scores , patient global assessment ( PGA ) of the severity of knee OA , and @-min walk distance ( @MWD ) .\\n',\n",
       " 'METHODS\\tSerum levels of interleukin @ ( IL-@ ) , IL-@ , tumor necrosis factor ( TNF ) - , and high-sensitivity C-reactive protein ( hsCRP ) were measured .\\n',\n",
       " 'RESULTS\\tThere was a clinically relevant reduction in the intervention group compared to the placebo group for knee pain , physical function , PGA , and @MWD at @ weeks .\\n',\n",
       " 'RESULTS\\tThe mean difference between treatment arms ( @ % CI ) was @ ( @-@ @ ) , p < @ ; @ ( @-@ @ ) , p < @ ; @ ( @-@ @ ) , p < @ ; and @ ( @-@ @ ) , p < @ , respectively .\\n',\n",
       " 'RESULTS\\tFurther , there was a clinically relevant reduction in the serum levels of IL-@ , IL-@ , TNF - , and hsCRP at @ weeks in the intervention group when compared to the placebo group .\\n',\n",
       " 'RESULTS\\tThese differences remained significant at @ weeks .\\n',\n",
       " 'RESULTS\\tThe Outcome Measures in Rheumatology Clinical Trials-Osteoarthritis Research Society International responder rate was @ % in the intervention group and @ % in the placebo group ( p < @ ) .\\n',\n",
       " 'CONCLUSIONS\\tLow-dose oral prednisolone had both a short-term and a longer sustained effect resulting in less knee pain , better physical function , and attenuation of systemic inflammation in older patients with knee OA ( ClinicalTrials.gov identifier NCT@ ) .\\n',\n",
       " '\\n',\n",
       " '###24854809\\n',\n",
       " 'BACKGROUND\\tEmotional eating is associated with overeating and the development of obesity .\\n',\n",
       " 'BACKGROUND\\tYet , empirical evidence for individual ( trait ) differences in emotional eating and cognitive mechanisms that contribute to eating during sad mood remain equivocal .\\n',\n",
       " 'OBJECTIVE\\tThe aim of this study was to test if attention bias for food moderates the effect of self-reported emotional eating during sad mood ( vs neutral mood ) on actual food intake .\\n',\n",
       " 'OBJECTIVE\\tIt was expected that emotional eating is predictive of elevated attention for food and higher food intake after an experimentally induced sad mood and that attentional maintenance on food predicts food intake during a sad versus a neutral mood .\\n',\n",
       " 'METHODS\\tParticipants ( N = @ ) were randomly assigned to one of the two experimental mood induction conditions ( sad/neutral ) .\\n']"
      ]
     },
     "execution_count": 122,
     "metadata": {},
     "output_type": "execute_result"
    }
   ],
   "source": [
    "test=train_lines[:20]\n",
    "test"
   ]
  },
  {
   "cell_type": "code",
   "execution_count": 123,
   "id": "1810ee4d",
   "metadata": {},
   "outputs": [
    {
     "data": {
      "text/plain": [
       "[{'line number': 1,\n",
       "  'target': 'OBJECTIVE',\n",
       "  'text': 'To investigate the efficacy of @ weeks of daily low-dose oral prednisolone in improving pain , mobility , and systemic low-grade inflammation in the short term and whether the effect would be sustained at @ weeks in older adults with moderate to severe knee osteoarthritis ( OA ) .\\n',\n",
       "  'total lines': 11}]"
      ]
     },
     "execution_count": 123,
     "metadata": {},
     "output_type": "execute_result"
    }
   ],
   "source": [
    "# Expected format:\n",
    "[{'line number':1, 'target': 'OBJECTIVE',\n",
    "  'text':'To investigate the efficacy of @ weeks of daily low-dose oral prednisolone in improving pain , mobility , and systemic low-grade inflammation in the short term and whether the effect would be sustained at @ weeks in older adults with moderate to severe knee osteoarthritis ( OA ) .\\n',\n",
    " 'total lines':11}]"
   ]
  },
  {
   "cell_type": "code",
   "execution_count": 124,
   "id": "3ff7cb87",
   "metadata": {},
   "outputs": [],
   "source": [
    "def preprocess_text_with_line_numbers(filename):\n",
    "    \n",
    "    input_lines = get_lines(filename) # get all lines from filename\n",
    "    abstract_lines = \"\" # create an empty abstract\n",
    "    abstract_samples = [] # create an empty list of abstracts\n",
    "  \n",
    "  # Loop through each line in target file\n",
    "    for line in input_lines:\n",
    "        \n",
    "        if line.startswith(\"###\"):\n",
    "            # check to see if line is an ID line\n",
    "            abstract_id = line\n",
    "            \n",
    "            abstract_lines = \"\" # reset abstract string\n",
    "        elif line.isspace(): # check to see if line is a new line\n",
    "            abstract_line_split = abstract_lines.splitlines() # split abstract into separate lines\n",
    "\n",
    "      # Iterate through each line in abstract and count them at the same time\n",
    "            for abstract_line_number, abstract_line in enumerate(abstract_line_split):\n",
    "                line_data = {} # create empty dict to store data from line\n",
    "                target_text_split = abstract_line.split(\"\\t\") # split target label from text\n",
    "                line_data[\"target\"] = target_text_split[0] # get target label\n",
    "                line_data[\"text\"] = target_text_split[1].lower() # get target text and lower it\n",
    "                line_data[\"line_number\"] = abstract_line_number # what number line does the line appear in the abstract?\n",
    "                line_data[\"total_lines\"] = len(abstract_line_split) - 1 # how many total lines are in the abstract? (start from 0)\n",
    "                abstract_samples.append(line_data) # add line data to abstract samples list\n",
    "    \n",
    "        else: # if the above conditions aren't fulfilled, the line contains a labelled sentence\n",
    "              abstract_lines += line\n",
    "    return abstract_samples\n"
   ]
  },
  {
   "cell_type": "code",
   "execution_count": 125,
   "id": "46985bb4",
   "metadata": {},
   "outputs": [
    {
     "data": {
      "text/plain": [
       "(180040, 30212, 30135)"
      ]
     },
     "execution_count": 125,
     "metadata": {},
     "output_type": "execute_result"
    }
   ],
   "source": [
    "train_samples = preprocess_text_with_line_numbers(data_dir + \"train.txt\")\n",
    "val_samples = preprocess_text_with_line_numbers(data_dir + \"dev.txt\") # dev is another name for validation set\n",
    "test_samples = preprocess_text_with_line_numbers(data_dir + \"test.txt\")\n",
    "len(train_samples), len(val_samples), len(test_samples)"
   ]
  },
  {
   "cell_type": "code",
   "execution_count": 126,
   "id": "b68a564a",
   "metadata": {},
   "outputs": [
    {
     "data": {
      "text/plain": [
       "[{'target': 'OBJECTIVE',\n",
       "  'text': 'to investigate the efficacy of @ weeks of daily low-dose oral prednisolone in improving pain , mobility , and systemic low-grade inflammation in the short term and whether the effect would be sustained at @ weeks in older adults with moderate to severe knee osteoarthritis ( oa ) .',\n",
       "  'line_number': 0,\n",
       "  'total_lines': 11},\n",
       " {'target': 'METHODS',\n",
       "  'text': 'a total of @ patients with primary knee oa were randomized @:@ ; @ received @ mg/day of prednisolone and @ received placebo for @ weeks .',\n",
       "  'line_number': 1,\n",
       "  'total_lines': 11},\n",
       " {'target': 'METHODS',\n",
       "  'text': 'outcome measures included pain reduction and improvement in function scores and systemic inflammation markers .',\n",
       "  'line_number': 2,\n",
       "  'total_lines': 11},\n",
       " {'target': 'METHODS',\n",
       "  'text': 'pain was assessed using the visual analog pain scale ( @-@ mm ) .',\n",
       "  'line_number': 3,\n",
       "  'total_lines': 11},\n",
       " {'target': 'METHODS',\n",
       "  'text': 'secondary outcome measures included the western ontario and mcmaster universities osteoarthritis index scores , patient global assessment ( pga ) of the severity of knee oa , and @-min walk distance ( @mwd ) .',\n",
       "  'line_number': 4,\n",
       "  'total_lines': 11},\n",
       " {'target': 'METHODS',\n",
       "  'text': 'serum levels of interleukin @ ( il-@ ) , il-@ , tumor necrosis factor ( tnf ) - , and high-sensitivity c-reactive protein ( hscrp ) were measured .',\n",
       "  'line_number': 5,\n",
       "  'total_lines': 11},\n",
       " {'target': 'RESULTS',\n",
       "  'text': 'there was a clinically relevant reduction in the intervention group compared to the placebo group for knee pain , physical function , pga , and @mwd at @ weeks .',\n",
       "  'line_number': 6,\n",
       "  'total_lines': 11},\n",
       " {'target': 'RESULTS',\n",
       "  'text': 'the mean difference between treatment arms ( @ % ci ) was @ ( @-@ @ ) , p < @ ; @ ( @-@ @ ) , p < @ ; @ ( @-@ @ ) , p < @ ; and @ ( @-@ @ ) , p < @ , respectively .',\n",
       "  'line_number': 7,\n",
       "  'total_lines': 11},\n",
       " {'target': 'RESULTS',\n",
       "  'text': 'further , there was a clinically relevant reduction in the serum levels of il-@ , il-@ , tnf - , and hscrp at @ weeks in the intervention group when compared to the placebo group .',\n",
       "  'line_number': 8,\n",
       "  'total_lines': 11},\n",
       " {'target': 'RESULTS',\n",
       "  'text': 'these differences remained significant at @ weeks .',\n",
       "  'line_number': 9,\n",
       "  'total_lines': 11},\n",
       " {'target': 'RESULTS',\n",
       "  'text': 'the outcome measures in rheumatology clinical trials-osteoarthritis research society international responder rate was @ % in the intervention group and @ % in the placebo group ( p < @ ) .',\n",
       "  'line_number': 10,\n",
       "  'total_lines': 11},\n",
       " {'target': 'CONCLUSIONS',\n",
       "  'text': 'low-dose oral prednisolone had both a short-term and a longer sustained effect resulting in less knee pain , better physical function , and attenuation of systemic inflammation in older patients with knee oa ( clinicaltrials.gov identifier nct@ ) .',\n",
       "  'line_number': 11,\n",
       "  'total_lines': 11},\n",
       " {'target': 'BACKGROUND',\n",
       "  'text': 'emotional eating is associated with overeating and the development of obesity .',\n",
       "  'line_number': 0,\n",
       "  'total_lines': 10},\n",
       " {'target': 'BACKGROUND',\n",
       "  'text': 'yet , empirical evidence for individual ( trait ) differences in emotional eating and cognitive mechanisms that contribute to eating during sad mood remain equivocal .',\n",
       "  'line_number': 1,\n",
       "  'total_lines': 10},\n",
       " {'target': 'OBJECTIVE',\n",
       "  'text': 'the aim of this study was to test if attention bias for food moderates the effect of self-reported emotional eating during sad mood ( vs neutral mood ) on actual food intake .',\n",
       "  'line_number': 2,\n",
       "  'total_lines': 10},\n",
       " {'target': 'OBJECTIVE',\n",
       "  'text': 'it was expected that emotional eating is predictive of elevated attention for food and higher food intake after an experimentally induced sad mood and that attentional maintenance on food predicts food intake during a sad versus a neutral mood .',\n",
       "  'line_number': 3,\n",
       "  'total_lines': 10},\n",
       " {'target': 'METHODS',\n",
       "  'text': 'participants ( n = @ ) were randomly assigned to one of the two experimental mood induction conditions ( sad/neutral ) .',\n",
       "  'line_number': 4,\n",
       "  'total_lines': 10},\n",
       " {'target': 'METHODS',\n",
       "  'text': 'attentional biases for high caloric foods were measured by eye tracking during a visual probe task with pictorial food and neutral stimuli .',\n",
       "  'line_number': 5,\n",
       "  'total_lines': 10},\n",
       " {'target': 'METHODS',\n",
       "  'text': 'self-reported emotional eating was assessed with the dutch eating behavior questionnaire ( debq ) and ad libitum food intake was tested by a disguised food offer .',\n",
       "  'line_number': 6,\n",
       "  'total_lines': 10},\n",
       " {'target': 'RESULTS',\n",
       "  'text': 'hierarchical multivariate regression modeling showed that self-reported emotional eating did not account for changes in attention allocation for food or food intake in either condition .',\n",
       "  'line_number': 7,\n",
       "  'total_lines': 10}]"
      ]
     },
     "execution_count": 126,
     "metadata": {},
     "output_type": "execute_result"
    }
   ],
   "source": [
    "train_samples[:20]"
   ]
  },
  {
   "cell_type": "code",
   "execution_count": 127,
   "id": "15b69cac",
   "metadata": {},
   "outputs": [
    {
     "data": {
      "text/html": [
       "<div>\n",
       "<style scoped>\n",
       "    .dataframe tbody tr th:only-of-type {\n",
       "        vertical-align: middle;\n",
       "    }\n",
       "\n",
       "    .dataframe tbody tr th {\n",
       "        vertical-align: top;\n",
       "    }\n",
       "\n",
       "    .dataframe thead th {\n",
       "        text-align: right;\n",
       "    }\n",
       "</style>\n",
       "<table border=\"1\" class=\"dataframe\">\n",
       "  <thead>\n",
       "    <tr style=\"text-align: right;\">\n",
       "      <th></th>\n",
       "      <th>target</th>\n",
       "      <th>text</th>\n",
       "      <th>line_number</th>\n",
       "      <th>total_lines</th>\n",
       "    </tr>\n",
       "  </thead>\n",
       "  <tbody>\n",
       "    <tr>\n",
       "      <th>0</th>\n",
       "      <td>OBJECTIVE</td>\n",
       "      <td>to investigate the efficacy of @ weeks of dail...</td>\n",
       "      <td>0</td>\n",
       "      <td>11</td>\n",
       "    </tr>\n",
       "    <tr>\n",
       "      <th>1</th>\n",
       "      <td>METHODS</td>\n",
       "      <td>a total of @ patients with primary knee oa wer...</td>\n",
       "      <td>1</td>\n",
       "      <td>11</td>\n",
       "    </tr>\n",
       "    <tr>\n",
       "      <th>2</th>\n",
       "      <td>METHODS</td>\n",
       "      <td>outcome measures included pain reduction and i...</td>\n",
       "      <td>2</td>\n",
       "      <td>11</td>\n",
       "    </tr>\n",
       "    <tr>\n",
       "      <th>3</th>\n",
       "      <td>METHODS</td>\n",
       "      <td>pain was assessed using the visual analog pain...</td>\n",
       "      <td>3</td>\n",
       "      <td>11</td>\n",
       "    </tr>\n",
       "    <tr>\n",
       "      <th>4</th>\n",
       "      <td>METHODS</td>\n",
       "      <td>secondary outcome measures included the wester...</td>\n",
       "      <td>4</td>\n",
       "      <td>11</td>\n",
       "    </tr>\n",
       "    <tr>\n",
       "      <th>5</th>\n",
       "      <td>METHODS</td>\n",
       "      <td>serum levels of interleukin @ ( il-@ ) , il-@ ...</td>\n",
       "      <td>5</td>\n",
       "      <td>11</td>\n",
       "    </tr>\n",
       "    <tr>\n",
       "      <th>6</th>\n",
       "      <td>RESULTS</td>\n",
       "      <td>there was a clinically relevant reduction in t...</td>\n",
       "      <td>6</td>\n",
       "      <td>11</td>\n",
       "    </tr>\n",
       "    <tr>\n",
       "      <th>7</th>\n",
       "      <td>RESULTS</td>\n",
       "      <td>the mean difference between treatment arms ( @...</td>\n",
       "      <td>7</td>\n",
       "      <td>11</td>\n",
       "    </tr>\n",
       "    <tr>\n",
       "      <th>8</th>\n",
       "      <td>RESULTS</td>\n",
       "      <td>further , there was a clinically relevant redu...</td>\n",
       "      <td>8</td>\n",
       "      <td>11</td>\n",
       "    </tr>\n",
       "    <tr>\n",
       "      <th>9</th>\n",
       "      <td>RESULTS</td>\n",
       "      <td>these differences remained significant at @ we...</td>\n",
       "      <td>9</td>\n",
       "      <td>11</td>\n",
       "    </tr>\n",
       "    <tr>\n",
       "      <th>10</th>\n",
       "      <td>RESULTS</td>\n",
       "      <td>the outcome measures in rheumatology clinical ...</td>\n",
       "      <td>10</td>\n",
       "      <td>11</td>\n",
       "    </tr>\n",
       "    <tr>\n",
       "      <th>11</th>\n",
       "      <td>CONCLUSIONS</td>\n",
       "      <td>low-dose oral prednisolone had both a short-te...</td>\n",
       "      <td>11</td>\n",
       "      <td>11</td>\n",
       "    </tr>\n",
       "    <tr>\n",
       "      <th>12</th>\n",
       "      <td>BACKGROUND</td>\n",
       "      <td>emotional eating is associated with overeating...</td>\n",
       "      <td>0</td>\n",
       "      <td>10</td>\n",
       "    </tr>\n",
       "    <tr>\n",
       "      <th>13</th>\n",
       "      <td>BACKGROUND</td>\n",
       "      <td>yet , empirical evidence for individual ( trai...</td>\n",
       "      <td>1</td>\n",
       "      <td>10</td>\n",
       "    </tr>\n",
       "  </tbody>\n",
       "</table>\n",
       "</div>"
      ],
      "text/plain": [
       "         target                                               text  \\\n",
       "0     OBJECTIVE  to investigate the efficacy of @ weeks of dail...   \n",
       "1       METHODS  a total of @ patients with primary knee oa wer...   \n",
       "2       METHODS  outcome measures included pain reduction and i...   \n",
       "3       METHODS  pain was assessed using the visual analog pain...   \n",
       "4       METHODS  secondary outcome measures included the wester...   \n",
       "5       METHODS  serum levels of interleukin @ ( il-@ ) , il-@ ...   \n",
       "6       RESULTS  there was a clinically relevant reduction in t...   \n",
       "7       RESULTS  the mean difference between treatment arms ( @...   \n",
       "8       RESULTS  further , there was a clinically relevant redu...   \n",
       "9       RESULTS  these differences remained significant at @ we...   \n",
       "10      RESULTS  the outcome measures in rheumatology clinical ...   \n",
       "11  CONCLUSIONS  low-dose oral prednisolone had both a short-te...   \n",
       "12   BACKGROUND  emotional eating is associated with overeating...   \n",
       "13   BACKGROUND  yet , empirical evidence for individual ( trai...   \n",
       "\n",
       "    line_number  total_lines  \n",
       "0             0           11  \n",
       "1             1           11  \n",
       "2             2           11  \n",
       "3             3           11  \n",
       "4             4           11  \n",
       "5             5           11  \n",
       "6             6           11  \n",
       "7             7           11  \n",
       "8             8           11  \n",
       "9             9           11  \n",
       "10           10           11  \n",
       "11           11           11  \n",
       "12            0           10  \n",
       "13            1           10  "
      ]
     },
     "execution_count": 127,
     "metadata": {},
     "output_type": "execute_result"
    }
   ],
   "source": [
    "import pandas as pd\n",
    "train_df = pd.DataFrame(train_samples)\n",
    "val_df = pd.DataFrame(val_samples)\n",
    "test_df = pd.DataFrame(test_samples)\n",
    "train_df.head(14)"
   ]
  },
  {
   "cell_type": "code",
   "execution_count": 128,
   "id": "98c4f45f",
   "metadata": {},
   "outputs": [
    {
     "data": {
      "image/png": "[encoded data removed]",
      "text/plain": [
       "<Figure size 640x480 with 1 Axes>"
      ]
     },
     "metadata": {},
     "output_type": "display_data"
    }
   ],
   "source": [
    "# Check lenght of different lines in training data\n",
    "\n",
    "plt.hist(train_df['total_lines'])\n",
    "plt.show()"
   ]
  },
  {
   "cell_type": "code",
   "execution_count": 129,
   "id": "0b0da411",
   "metadata": {},
   "outputs": [],
   "source": [
    "# Convert text sentences to list\n",
    "\n",
    "train_sentences=train_df['text'].tolist()\n",
    "test_sentences=test_df['text'].tolist()\n",
    "val_sentences=val_df['text'].tolist()"
   ]
  },
  {
   "cell_type": "code",
   "execution_count": 130,
   "id": "352c0843",
   "metadata": {},
   "outputs": [
    {
     "data": {
      "text/plain": [
       "['to investigate the efficacy of @ weeks of daily low-dose oral prednisolone in improving pain , mobility , and systemic low-grade inflammation in the short term and whether the effect would be sustained at @ weeks in older adults with moderate to severe knee osteoarthritis ( oa ) .',\n",
       " 'a total of @ patients with primary knee oa were randomized @:@ ; @ received @ mg/day of prednisolone and @ received placebo for @ weeks .',\n",
       " 'outcome measures included pain reduction and improvement in function scores and systemic inflammation markers .',\n",
       " 'pain was assessed using the visual analog pain scale ( @-@ mm ) .',\n",
       " 'secondary outcome measures included the western ontario and mcmaster universities osteoarthritis index scores , patient global assessment ( pga ) of the severity of knee oa , and @-min walk distance ( @mwd ) .',\n",
       " 'serum levels of interleukin @ ( il-@ ) , il-@ , tumor necrosis factor ( tnf ) - , and high-sensitivity c-reactive protein ( hscrp ) were measured .',\n",
       " 'there was a clinically relevant reduction in the intervention group compared to the placebo group for knee pain , physical function , pga , and @mwd at @ weeks .',\n",
       " 'the mean difference between treatment arms ( @ % ci ) was @ ( @-@ @ ) , p < @ ; @ ( @-@ @ ) , p < @ ; @ ( @-@ @ ) , p < @ ; and @ ( @-@ @ ) , p < @ , respectively .',\n",
       " 'further , there was a clinically relevant reduction in the serum levels of il-@ , il-@ , tnf - , and hscrp at @ weeks in the intervention group when compared to the placebo group .',\n",
       " 'these differences remained significant at @ weeks .']"
      ]
     },
     "execution_count": 130,
     "metadata": {},
     "output_type": "execute_result"
    }
   ],
   "source": [
    "train_sentences[:10]"
   ]
  },
  {
   "cell_type": "markdown",
   "id": "8b263ff1",
   "metadata": {},
   "source": [
    "Alright, we've separated our text samples. As you might've guessed, we'll have to write code to convert the text to numbers before we can use it with our machine learning models, we'll get to this soon."
   ]
  },
  {
   "cell_type": "markdown",
   "id": "211bcf43",
   "metadata": {},
   "source": [
    "# Making Numeric Labels\n",
    "We're going to create one hot and label encoded labels.\n",
    "\n",
    "We could get away with just making label encoded labels, however, TensorFlow's CategoricalCrossentropy loss function likes to have one hot encoded labels (this will enable us to use label smoothing later on).\n",
    "\n",
    "To numerically encode labels we'll use Scikit-Learn's OneHotEncoder and LabelEncoder classes."
   ]
  },
  {
   "cell_type": "code",
   "execution_count": 131,
   "id": "bb4a5de5",
   "metadata": {},
   "outputs": [],
   "source": [
    "# One hot encoding:\n",
    "\n",
    "from sklearn.preprocessing import OneHotEncoder\n",
    "OneHotEncode=OneHotEncoder(sparse=False)"
   ]
  },
  {
   "cell_type": "code",
   "execution_count": 132,
   "id": "319b4749",
   "metadata": {},
   "outputs": [
    {
     "name": "stderr",
     "output_type": "stream",
     "text": [
      "C:\\Users\\rohan\\anaconda3\\lib\\site-packages\\sklearn\\preprocessing\\_encoders.py:828: FutureWarning: `sparse` was renamed to `sparse_output` in version 1.2 and will be removed in 1.4. `sparse_output` is ignored unless you leave `sparse` to its default value.\n",
      "  warnings.warn(\n"
     ]
    }
   ],
   "source": [
    "train_labels_one_hot=OneHotEncode.fit_transform(train_df['target'].to_numpy().reshape(-1, 1))\n",
    "test_labels_one_hot=OneHotEncode.transform(test_df['target'].to_numpy().reshape(-1, 1))\n",
    "val_labels_one_hot=OneHotEncode.transform(val_df['target'].to_numpy().reshape(-1, 1))"
   ]
  },
  {
   "cell_type": "code",
   "execution_count": 133,
   "id": "dab2ce31",
   "metadata": {},
   "outputs": [
    {
     "data": {
      "text/plain": [
       "array([[0., 0., 0., 1., 0.],\n",
       "       [0., 0., 1., 0., 0.],\n",
       "       [0., 0., 1., 0., 0.],\n",
       "       ...,\n",
       "       [0., 0., 0., 0., 1.],\n",
       "       [0., 1., 0., 0., 0.],\n",
       "       [0., 1., 0., 0., 0.]])"
      ]
     },
     "execution_count": 133,
     "metadata": {},
     "output_type": "execute_result"
    }
   ],
   "source": [
    "train_labels_one_hot"
   ]
  },
  {
   "cell_type": "code",
   "execution_count": 134,
   "id": "3deb26df",
   "metadata": {},
   "outputs": [
    {
     "data": {
      "text/plain": [
       "<tf.Tensor: shape=(30212, 5), dtype=float64, numpy=\n",
       "array([[1., 0., 0., 0., 0.],\n",
       "       [1., 0., 0., 0., 0.],\n",
       "       [0., 0., 0., 1., 0.],\n",
       "       ...,\n",
       "       [0., 0., 0., 0., 1.],\n",
       "       [0., 1., 0., 0., 0.],\n",
       "       [0., 1., 0., 0., 0.]])>"
      ]
     },
     "execution_count": 134,
     "metadata": {},
     "output_type": "execute_result"
    }
   ],
   "source": [
    "tf.constant(train_labels_one_hot)\n",
    "tf.constant(test_labels_one_hot)\n",
    "tf.constant(val_labels_one_hot)"
   ]
  },
  {
   "cell_type": "code",
   "execution_count": 135,
   "id": "25978c10",
   "metadata": {},
   "outputs": [],
   "source": [
    "# Label Encoding\n",
    "\n",
    "from sklearn.preprocessing import LabelEncoder\n",
    "\n",
    "LE=LabelEncoder()"
   ]
  },
  {
   "cell_type": "code",
   "execution_count": 136,
   "id": "21fff84f",
   "metadata": {},
   "outputs": [],
   "source": [
    "train_label_le=LE.fit_transform(train_df['target'].to_numpy())"
   ]
  },
  {
   "cell_type": "code",
   "execution_count": 137,
   "id": "1467d1ea",
   "metadata": {},
   "outputs": [],
   "source": [
    "test_label_le=LE.transform(test_df['target'].to_numpy())\n",
    "val_label_le=LE.transform(val_df['target'].to_numpy())"
   ]
  },
  {
   "cell_type": "code",
   "execution_count": 138,
   "id": "f0875202",
   "metadata": {},
   "outputs": [
    {
     "data": {
      "text/plain": [
       "array([3, 2, 2, ..., 4, 1, 1])"
      ]
     },
     "execution_count": 138,
     "metadata": {},
     "output_type": "execute_result"
    }
   ],
   "source": [
    "train_label_le"
   ]
  },
  {
   "cell_type": "code",
   "execution_count": 139,
   "id": "8a3fa47c",
   "metadata": {},
   "outputs": [
    {
     "name": "stdout",
     "output_type": "stream",
     "text": [
      "5 ['BACKGROUND' 'CONCLUSIONS' 'METHODS' 'OBJECTIVE' 'RESULTS']\n"
     ]
    }
   ],
   "source": [
    "# Get Class names and number of classes from LabelEncoder\n",
    "\n",
    "num_classes=len(LE.classes_)\n",
    "class_names=LE.classes_\n",
    "\n",
    "print(num_classes,class_names)"
   ]
  },
  {
   "cell_type": "markdown",
   "id": "80c7854f",
   "metadata": {},
   "source": [
    "## Creating a series of model experiments\n",
    "We've proprocessed our data so now, in true machine learning fashion, it's time to setup a series of modelling experiments.\n",
    "\n",
    "We'll start by creating a simple baseline model to obtain a score we'll try to beat by building more and more complex models as we move towards replicating the sequence model outlined in Neural networks for joint sentence classification in medical paper abstracts.\n",
    "\n",
    "For each model, we'll train it on the training data and evaluate it on the validation data."
   ]
  },
  {
   "cell_type": "markdown",
   "id": "2ee7f53e",
   "metadata": {},
   "source": [
    "# Model_0 Baseline Model\n",
    "\n",
    "Our first model we'll be a TF-IDF Multinomial Naive Bayes as recommended by [Scikit-Learn's machine learning map](https://scikit-learn.org/stable/tutorial/machine_learning_map/index.html).\n",
    "\n",
    "To build it, we'll create a Scikit-Learn `Pipeline` which uses the [`TfidfVectorizer`](https://scikit-learn.org/stable/modules/generated/sklearn.feature_extraction.text.TfidfVectorizer.html) class to convert our abstract sentences to numbers using the TF-IDF (term frequency-inverse document frequecy) algorithm and then learns to classify our sentences using the [`MultinomialNB`](https://scikit-learn.org/stable/modules/generated/sklearn.naive_bayes.MultinomialNB.html) aglorithm."
   ]
  },
  {
   "cell_type": "code",
   "execution_count": 140,
   "id": "a3fe153c",
   "metadata": {},
   "outputs": [],
   "source": [
    "from sklearn.feature_extraction.text import TfidfVectorizer\n",
    "from sklearn.naive_bayes import MultinomialNB\n",
    "from sklearn.pipeline import Pipeline\n"
   ]
  },
  {
   "cell_type": "code",
   "execution_count": 141,
   "id": "3d149359",
   "metadata": {},
   "outputs": [
    {
     "data": {
      "text/html": [
       "<style>#sk-container-id-2 {color: black;background-color: white;}#sk-container-id-2 pre{padding: 0;}#sk-container-id-2 div.sk-toggleable {background-color: white;}#sk-container-id-2 label.sk-toggleable__label {cursor: pointer;display: block;width: 100%;margin-bottom: 0;padding: 0.3em;box-sizing: border-box;text-align: center;}#sk-container-id-2 label.sk-toggleable__label-arrow:before {content: \"▸\";float: left;margin-right: 0.25em;color: #696969;}#sk-container-id-2 label.sk-toggleable__label-arrow:hover:before {color: black;}#sk-container-id-2 div.sk-estimator:hover label.sk-toggleable__label-arrow:before {color: black;}#sk-container-id-2 div.sk-toggleable__content {max-height: 0;max-width: 0;overflow: hidden;text-align: left;background-color: #f0f8ff;}#sk-container-id-2 div.sk-toggleable__content pre {margin: 0.2em;color: black;border-radius: 0.25em;background-color: #f0f8ff;}#sk-container-id-2 input.sk-toggleable__control:checked~div.sk-toggleable__content {max-height: 200px;max-width: 100%;overflow: auto;}#sk-container-id-2 input.sk-toggleable__control:checked~label.sk-toggleable__label-arrow:before {content: \"▾\";}#sk-container-id-2 div.sk-estimator input.sk-toggleable__control:checked~label.sk-toggleable__label {background-color: #d4ebff;}#sk-container-id-2 div.sk-label input.sk-toggleable__control:checked~label.sk-toggleable__label {background-color: #d4ebff;}#sk-container-id-2 input.sk-hidden--visually {border: 0;clip: rect(1px 1px 1px 1px);clip: rect(1px, 1px, 1px, 1px);height: 1px;margin: -1px;overflow: hidden;padding: 0;position: absolute;width: 1px;}#sk-container-id-2 div.sk-estimator {font-family: monospace;background-color: #f0f8ff;border: 1px dotted black;border-radius: 0.25em;box-sizing: border-box;margin-bottom: 0.5em;}#sk-container-id-2 div.sk-estimator:hover {background-color: #d4ebff;}#sk-container-id-2 div.sk-parallel-item::after {content: \"\";width: 100%;border-bottom: 1px solid gray;flex-grow: 1;}#sk-container-id-2 div.sk-label:hover label.sk-toggleable__label {background-color: #d4ebff;}#sk-container-id-2 div.sk-serial::before {content: \"\";position: absolute;border-left: 1px solid gray;box-sizing: border-box;top: 0;bottom: 0;left: 50%;z-index: 0;}#sk-container-id-2 div.sk-serial {display: flex;flex-direction: column;align-items: center;background-color: white;padding-right: 0.2em;padding-left: 0.2em;position: relative;}#sk-container-id-2 div.sk-item {position: relative;z-index: 1;}#sk-container-id-2 div.sk-parallel {display: flex;align-items: stretch;justify-content: center;background-color: white;position: relative;}#sk-container-id-2 div.sk-item::before, #sk-container-id-2 div.sk-parallel-item::before {content: \"\";position: absolute;border-left: 1px solid gray;box-sizing: border-box;top: 0;bottom: 0;left: 50%;z-index: -1;}#sk-container-id-2 div.sk-parallel-item {display: flex;flex-direction: column;z-index: 1;position: relative;background-color: white;}#sk-container-id-2 div.sk-parallel-item:first-child::after {align-self: flex-end;width: 50%;}#sk-container-id-2 div.sk-parallel-item:last-child::after {align-self: flex-start;width: 50%;}#sk-container-id-2 div.sk-parallel-item:only-child::after {width: 0;}#sk-container-id-2 div.sk-dashed-wrapped {border: 1px dashed gray;margin: 0 0.4em 0.5em 0.4em;box-sizing: border-box;padding-bottom: 0.4em;background-color: white;}#sk-container-id-2 div.sk-label label {font-family: monospace;font-weight: bold;display: inline-block;line-height: 1.2em;}#sk-container-id-2 div.sk-label-container {text-align: center;}#sk-container-id-2 div.sk-container {/* jupyter's `normalize.less` sets `[hidden] { display: none; }` but bootstrap.min.css set `[hidden] { display: none !important; }` so we also need the `!important` here to be able to override the default hidden behavior on the sphinx rendered scikit-learn.org. See: https://github.com/scikit-learn/scikit-learn/issues/21755 */display: inline-block !important;position: relative;}#sk-container-id-2 div.sk-text-repr-fallback {display: none;}</style><div id=\"sk-container-id-2\" class=\"sk-top-container\"><div class=\"sk-text-repr-fallback\"><pre>Pipeline(steps=[(&#x27;tf-idf&#x27;, TfidfVectorizer()), (&#x27;clf&#x27;, MultinomialNB())])</pre><b>In a Jupyter environment, please rerun this cell to show the HTML representation or trust the notebook. <br />On GitHub, the HTML representation is unable to render, please try loading this page with nbviewer.org.</b></div><div class=\"sk-container\" hidden><div class=\"sk-item sk-dashed-wrapped\"><div class=\"sk-label-container\"><div class=\"sk-label sk-toggleable\"><input class=\"sk-toggleable__control sk-hidden--visually\" id=\"sk-estimator-id-4\" type=\"checkbox\" ><label for=\"sk-estimator-id-4\" class=\"sk-toggleable__label sk-toggleable__label-arrow\">Pipeline</label><div class=\"sk-toggleable__content\"><pre>Pipeline(steps=[(&#x27;tf-idf&#x27;, TfidfVectorizer()), (&#x27;clf&#x27;, MultinomialNB())])</pre></div></div></div><div class=\"sk-serial\"><div class=\"sk-item\"><div class=\"sk-estimator sk-toggleable\"><input class=\"sk-toggleable__control sk-hidden--visually\" id=\"sk-estimator-id-5\" type=\"checkbox\" ><label for=\"sk-estimator-id-5\" class=\"sk-toggleable__label sk-toggleable__label-arrow\">TfidfVectorizer</label><div class=\"sk-toggleable__content\"><pre>TfidfVectorizer()</pre></div></div></div><div class=\"sk-item\"><div class=\"sk-estimator sk-toggleable\"><input class=\"sk-toggleable__control sk-hidden--visually\" id=\"sk-estimator-id-6\" type=\"checkbox\" ><label for=\"sk-estimator-id-6\" class=\"sk-toggleable__label sk-toggleable__label-arrow\">MultinomialNB</label><div class=\"sk-toggleable__content\"><pre>MultinomialNB()</pre></div></div></div></div></div></div></div>"
      ],
      "text/plain": [
       "Pipeline(steps=[('tf-idf', TfidfVectorizer()), ('clf', MultinomialNB())])"
      ]
     },
     "execution_count": 141,
     "metadata": {},
     "output_type": "execute_result"
    }
   ],
   "source": [
    "#Create Pipeline\n",
    "\n",
    "model_0=Pipeline([\n",
    "    ('tf-idf',TfidfVectorizer()),\n",
    "    ('clf',MultinomialNB())\n",
    "])\n",
    "\n",
    "# Fit the Pipeline to training data\n",
    "\n",
    "model_0.fit(train_sentences,train_label_le)"
   ]
  },
  {
   "cell_type": "markdown",
   "id": "0e8cc234",
   "metadata": {},
   "source": [
    "Due to the speed of the Multinomial Naive Bayes algorithm, it trains very quickly.\n",
    "\n",
    "We can evaluate our model's accuracy on the validation dataset using the score() method."
   ]
  },
  {
   "cell_type": "code",
   "execution_count": 142,
   "id": "0628e8fb",
   "metadata": {},
   "outputs": [
    {
     "data": {
      "text/plain": [
       "0.7218323844829869"
      ]
     },
     "execution_count": 142,
     "metadata": {},
     "output_type": "execute_result"
    }
   ],
   "source": [
    "# Evaluate Model_0\n",
    "\n",
    "model_0.score(val_sentences,val_label_le)"
   ]
  },
  {
   "cell_type": "markdown",
   "id": "7e5ff598",
   "metadata": {},
   "source": [
    "Nice! Looks like 72.1% accuracy will be the number to beat with our deeper models.\n",
    "\n",
    "Now let's make some predictions with our baseline model to further evaluate it."
   ]
  },
  {
   "cell_type": "code",
   "execution_count": 143,
   "id": "6bdfb1f4",
   "metadata": {},
   "outputs": [],
   "source": [
    "test_predictions=model_0.predict(val_sentences)"
   ]
  },
  {
   "cell_type": "code",
   "execution_count": 144,
   "id": "c0e92b0b",
   "metadata": {},
   "outputs": [
    {
     "name": "stdout",
     "output_type": "stream",
     "text": [
      "[4 1 3 2 2 2 2 2 4 4]\n",
      "[0 4 4 4 4 4 4 1 1 0]\n"
     ]
    }
   ],
   "source": [
    "print(test_predictions[:10])\n",
    "print(test_label_le[:10])"
   ]
  },
  {
   "cell_type": "code",
   "execution_count": 145,
   "id": "fd9d1837",
   "metadata": {},
   "outputs": [],
   "source": [
    "from helper_functions import *"
   ]
  },
  {
   "cell_type": "code",
   "execution_count": 146,
   "id": "96494085",
   "metadata": {},
   "outputs": [
    {
     "data": {
      "text/plain": [
       "(array([0.65537383, 0.64606877, 0.72431078, 0.74712644, 0.76200361]),\n",
       " array([0.48796753, 0.58642514, 0.87013248, 0.13678451, 0.85794127]),\n",
       " array([0.55941499, 0.6148038 , 0.79055348, 0.23123444, 0.80713159]),\n",
       " array([3449, 4582, 9964, 2376, 9841], dtype=int64))"
      ]
     },
     "execution_count": 146,
     "metadata": {},
     "output_type": "execute_result"
    }
   ],
   "source": [
    "precision_recall_fscore_support(val_label_le,test_predictions)"
   ]
  },
  {
   "cell_type": "code",
   "execution_count": 147,
   "id": "dd372b31",
   "metadata": {},
   "outputs": [
    {
     "data": {
      "text/plain": [
       "{'accuracy': 72.1832384482987,\n",
       " 'precision': 0.7186466952323352,\n",
       " 'recall': 0.7218323844829869,\n",
       " 'f1': 0.6989250353450294}"
      ]
     },
     "execution_count": 147,
     "metadata": {},
     "output_type": "execute_result"
    }
   ],
   "source": [
    "model_0_results=calculate_results(val_label_le,test_predictions)\n",
    "model_0_results"
   ]
  },
  {
   "cell_type": "markdown",
   "id": "11dc7626",
   "metadata": {},
   "source": [
    "## Preparing our data for deep sequence models\n",
    "We've got a working baseline to try and improve upon.\n",
    "\n",
    "But before we start building deeper models, we've got to create vectorization and embedding layers.\n",
    "\n",
    "The vectorization layer will convert our text to numbers and the embedding layer will capture the relationships between those numbers.\n",
    "\n",
    "To start creating our vectorization and embedding layers, we'll need to import the appropriate libraries (namely TensorFlow and NumPy)."
   ]
  },
  {
   "cell_type": "markdown",
   "id": "3042ba12",
   "metadata": {},
   "source": [
    "# Model_1 CNN1D"
   ]
  },
  {
   "cell_type": "code",
   "execution_count": 2,
   "id": "a431b66b",
   "metadata": {},
   "outputs": [],
   "source": [
    "import numpy as np\n",
    "import tensorflow as tf\n",
    "from tensorflow.keras import layers"
   ]
  },
  {
   "cell_type": "markdown",
   "id": "83aff99e",
   "metadata": {},
   "source": [
    "Since we'll be turning our sentences into numbers, it's a good idea to figure out how many words are in each sentence.\n",
    "\n",
    "When our model goes through our sentences, it works best when they're all the same length (this is important for creating batches of the same size tensors).\n",
    "\n",
    "For example, if one sentence is eight words long and another is 29 words long, we want to pad the eight word sentence with zeros so it ends up being the same length as the 29 word sentence.\n",
    "\n",
    "Let's write some code to find the average length of sentences in the training set."
   ]
  },
  {
   "cell_type": "code",
   "execution_count": 148,
   "id": "19c6e89c",
   "metadata": {},
   "outputs": [],
   "source": [
    "# How long is each sentence on average?\n",
    "\n",
    "sentence_length=[len(i.split())for i in train_sentences]\n",
    "avg_sentence_lenght=[round(sum(len(i.split()) for i in train_sentences)/len(train_sentences))]"
   ]
  },
  {
   "cell_type": "code",
   "execution_count": 149,
   "id": "7a6d43e4",
   "metadata": {},
   "outputs": [
    {
     "name": "stdout",
     "output_type": "stream",
     "text": [
      "[26] 180040\n"
     ]
    }
   ],
   "source": [
    "print(avg_sentence_lenght,len(sentence_length))"
   ]
  },
  {
   "cell_type": "code",
   "execution_count": 150,
   "id": "8b75c3c2",
   "metadata": {},
   "outputs": [
    {
     "data": {
      "image/png": "[encoded data removed]",
      "text/plain": [
       "<Figure size 640x480 with 1 Axes>"
      ]
     },
     "metadata": {},
     "output_type": "display_data"
    }
   ],
   "source": [
    "# Check distribution\n",
    "\n",
    "plt.hist(sentence_length,bins=30)\n",
    "plt.show()"
   ]
  },
  {
   "cell_type": "markdown",
   "id": "62d1c666",
   "metadata": {},
   "source": [
    "Looks like the vast majority of sentences are between 0 and 50 tokens in length.\n",
    "\n",
    "We can use NumPy's percentile to find the value which covers 95% of the sentence lengths."
   ]
  },
  {
   "cell_type": "code",
   "execution_count": 151,
   "id": "752c1e8d",
   "metadata": {},
   "outputs": [
    {
     "data": {
      "text/plain": [
       "55.0"
      ]
     },
     "execution_count": 151,
     "metadata": {},
     "output_type": "execute_result"
    }
   ],
   "source": [
    "# How many words in sentence to cover 95% of sentences\n",
    "sentence_len_95=np.percentile(sentence_length,95)\n",
    "sentence_len_95"
   ]
  },
  {
   "cell_type": "markdown",
   "id": "66727ebb",
   "metadata": {},
   "source": [
    "Wonderful! It looks like 95% of the sentences in our training set have a length of 55 tokens or less.\n",
    "\n",
    "When we create our tokenization layer, we'll use this value to turn all of our sentences into the same length. Meaning sentences with a length below 55 get padded with zeros and sentences with a length above 55 get truncated (words after 55 get cut off).\n",
    "\n",
    "🤔 Question: Why 95%?\n",
    "\n",
    "We could use the max sentence length of the sentences in the training set."
   ]
  },
  {
   "cell_type": "code",
   "execution_count": 152,
   "id": "c4906566",
   "metadata": {},
   "outputs": [
    {
     "data": {
      "text/plain": [
       "296"
      ]
     },
     "execution_count": 152,
     "metadata": {},
     "output_type": "execute_result"
    }
   ],
   "source": [
    "max_sentence_len=np.max(sentence_length)\n",
    "max_sentence_len"
   ]
  },
  {
   "cell_type": "markdown",
   "id": "466eb8f4",
   "metadata": {},
   "source": [
    "However, since hardly any sentences even come close to the max length, it would mean the majority of the data we pass to our model would be zeros (sinces all sentences below the max length would get padded with zeros).\n",
    "\n",
    "> 🔑 **Note:** The steps we've gone through are good practice when working with a text corpus for a NLP problem. You want to know how long your samples are and what the distribution of them is. See section 4 Data Analysis of the [PubMed 200k RCT paper](https://arxiv.org/pdf/1710.06071.pdf) for further examples."
   ]
  },
  {
   "cell_type": "markdown",
   "id": "5c0e0a86",
   "metadata": {},
   "source": [
    "### Create text vectorizer\n",
    "Now we've got a little more information about our texts, let's create a way to turn it into numbers.\n",
    "\n",
    "To do so, we'll use the TextVectorization layer from TensorFlow.\n",
    "\n",
    "We'll keep all the parameters default except for max_tokens (the number of unique words in our dataset) and output_sequence_length (our desired output length for each vectorized sentence).\n",
    "\n",
    "Section 3.2 of the PubMed 200k RCT paper states the vocabulary size of the PubMed 20k dataset as 68,000. So we'll use that as our max_tokens parameter."
   ]
  },
  {
   "cell_type": "code",
   "execution_count": 153,
   "id": "7a9e2632",
   "metadata": {},
   "outputs": [],
   "source": [
    "# Text Vectorization:\n",
    "\n",
    "vectorize_layer = tf.keras.layers.TextVectorization( max_tokens=68000, #number of words in vocabulary based on PubMed 20k RCT paper,\n",
    "                                                    \n",
    " output_sequence_length=int(sentence_len_95))\n",
    "\n"
   ]
  },
  {
   "cell_type": "code",
   "execution_count": 154,
   "id": "58fde073",
   "metadata": {},
   "outputs": [],
   "source": [
    "# Now that the vocab layer has been created, call `adapt` on the\n",
    "# text-only dataset to create the vocabulary. You don't have to batch,\n",
    "# but for large datasets this means we're not keeping spare copies of\n",
    "# the dataset.\n",
    "\n",
    "vectorize_layer.adapt(train_sentences)\n"
   ]
  },
  {
   "cell_type": "code",
   "execution_count": 155,
   "id": "c59e877d",
   "metadata": {},
   "outputs": [
    {
     "name": "stdout",
     "output_type": "stream",
     "text": [
      "collateral status was assessed by consensus using @ different ordinal scales and categorized as good , intermediate , and poor .\n",
      "21\n",
      "tf.Tensor(\n",
      "[11253   272    10   113    22  3226    59   197  5418  1302     3  3575\n",
      "    25   745  2122     3   716     0     0     0     0     0     0     0\n",
      "     0     0     0     0     0     0     0     0     0     0     0     0\n",
      "     0     0     0     0     0     0     0     0     0     0     0     0\n",
      "     0     0     0     0     0     0     0], shape=(55,), dtype=int64)\n"
     ]
    }
   ],
   "source": [
    "# Test text vectorizer on random sentences\n",
    "\n",
    "import random\n",
    "target_sentence=random.choice(train_sentences)\n",
    "print(target_sentence)\n",
    "print(len(target_sentence.split()))\n",
    "print(vectorize_layer(target_sentence))"
   ]
  },
  {
   "cell_type": "code",
   "execution_count": 156,
   "id": "43670dab",
   "metadata": {},
   "outputs": [
    {
     "name": "stdout",
     "output_type": "stream",
     "text": [
      "Number of words in vocab: 64841\n",
      "Top 5 Most common words in vocab: ['', '[UNK]', 'the', 'and', 'of']\n",
      "5 Least common words in vocab: ['aainduced', 'aaigroup', 'aachener', 'aachen', 'aaacp']\n"
     ]
    }
   ],
   "source": [
    "# How many words in training vocabulary\n",
    "\n",
    "total_word_count=[sum(len(i.split())for i in train_sentences)]\n",
    "\n",
    "rct_20k_text_vocab=vectorize_layer.get_vocabulary()\n",
    "print(f'Number of words in vocab: {len(rct_20k_text_vocab)}')\n",
    "print(f'Top 5 Most common words in vocab: {rct_20k_text_vocab[:5]}')\n",
    "print(f'5 Least common words in vocab: {rct_20k_text_vocab[-5:]}')"
   ]
  },
  {
   "cell_type": "code",
   "execution_count": 157,
   "id": "5266f60e",
   "metadata": {},
   "outputs": [
    {
     "data": {
      "text/plain": [
       "{'name': 'text_vectorization_1',\n",
       " 'trainable': True,\n",
       " 'dtype': 'string',\n",
       " 'batch_input_shape': (None,),\n",
       " 'max_tokens': 68000,\n",
       " 'standardize': 'lower_and_strip_punctuation',\n",
       " 'split': 'whitespace',\n",
       " 'ngrams': None,\n",
       " 'output_mode': 'int',\n",
       " 'output_sequence_length': 55,\n",
       " 'pad_to_max_tokens': False,\n",
       " 'sparse': False,\n",
       " 'ragged': False,\n",
       " 'vocabulary': None,\n",
       " 'idf_weights': None,\n",
       " 'encoding': 'utf-8',\n",
       " 'vocabulary_size': 64841}"
      ]
     },
     "execution_count": 157,
     "metadata": {},
     "output_type": "execute_result"
    }
   ],
   "source": [
    "# Vectorizer Layer config\n",
    "\n",
    "vectorize_layer.get_config()"
   ]
  },
  {
   "cell_type": "markdown",
   "id": "65c98229",
   "metadata": {},
   "source": [
    "# Create Text Embedding Layer"
   ]
  },
  {
   "cell_type": "code",
   "execution_count": 158,
   "id": "cc63a5fc",
   "metadata": {},
   "outputs": [],
   "source": [
    "token_embed=tf.keras.layers.Embedding(input_dim=len(rct_20k_text_vocab), output_dim=128,mask_zero=True, name='TokenEmbedding')\n",
    "\n"
   ]
  },
  {
   "cell_type": "code",
   "execution_count": 159,
   "id": "401494fd",
   "metadata": {},
   "outputs": [
    {
     "name": "stdout",
     "output_type": "stream",
     "text": [
      "Original Sentence:\n",
      "collateral status was assessed by consensus using @ different ordinal scales and categorized as good , intermediate , and poor .\n",
      "\n",
      "Vectorized Sentence:\n",
      "[[11253   272    10   113    22  3226    59   197  5418  1302     3  3575\n",
      "     25   745  2122     3   716     0     0     0     0     0     0     0\n",
      "      0     0     0     0     0     0     0     0     0     0     0     0\n",
      "      0     0     0     0     0     0     0     0     0     0     0     0\n",
      "      0     0     0     0     0     0     0]]\n",
      "\n",
      "Embeded Sentence: [[[ 0.00530497 -0.02557905  0.00183011 ...  0.0410596  -0.0022319\n",
      "   -0.03103715]\n",
      "  [-0.00440609 -0.00476979  0.02859446 ... -0.00343706 -0.01801612\n",
      "   -0.00973115]\n",
      "  [ 0.00747592 -0.02228429  0.02054094 ... -0.01956107  0.00395668\n",
      "   -0.03875569]\n",
      "  ...\n",
      "  [-0.03735147  0.005271    0.00761914 ... -0.00355965  0.0429746\n",
      "   -0.00632878]\n",
      "  [-0.03735147  0.005271    0.00761914 ... -0.00355965  0.0429746\n",
      "   -0.00632878]\n",
      "  [-0.03735147  0.005271    0.00761914 ... -0.00355965  0.0429746\n",
      "   -0.00632878]]]\n"
     ]
    }
   ],
   "source": [
    "print(f'Original Sentence:\\n{target_sentence}\\n')\n",
    "print(f'Vectorized Sentence:\\n{vectorize_layer([target_sentence])}\\n')\n",
    "print(f'Embeded Sentence: {token_embed(vectorize_layer([target_sentence]))}')\n",
    "vectorized_sentence=vectorize_layer([target_sentence])"
   ]
  },
  {
   "cell_type": "code",
   "execution_count": 160,
   "id": "6656d907",
   "metadata": {},
   "outputs": [
    {
     "name": "stdout",
     "output_type": "stream",
     "text": [
      "(1, 55)\n",
      "(1, 55, 128)\n"
     ]
    }
   ],
   "source": [
    "vectorized_sentence1=vectorize_layer([target_sentence])\n",
    "print(vectorized_sentence1.shape)\n",
    "embeded_sentence=token_embed(vectorized_sentence1)\n",
    "print(embeded_sentence.shape)"
   ]
  },
  {
   "cell_type": "markdown",
   "id": "7adc0ebd",
   "metadata": {},
   "source": [
    "## Create datasets (as fast as possible)\n",
    "\n",
    "We've gone through all the trouble of preprocessing our datasets to be used with a machine learning model, however, there are still a few steps we can use to make them work faster with our models.\n",
    "\n",
    "Namely, the `tf.data` API provides methods which enable faster data loading.\n",
    "\n",
    "> 📖 **Resource:** For best practices on data loading in TensorFlow, check out the following:\n",
    "* [tf.data: Build TensorFlow input pipelines](https://www.tensorflow.org/guide/data)\n",
    "* [Better performance with the tf.data API](https://www.tensorflow.org/guide/data_performance)\n",
    "\n",
    "The main steps we'll want to use with our data is to turn it into a `PrefetchDataset` of batches.\n",
    "\n",
    "Doing so we'll ensure TensorFlow loads our data onto the GPU as fast as possible, in turn leading to faster training time.\n",
    "\n",
    "To create a batched `PrefetchDataset` we can use the methods [`batch()`](https://www.tensorflow.org/api_docs/python/tf/data/Dataset#batch) and [`prefetch()`](https://www.tensorflow.org/api_docs/python/tf/data/Dataset#prefetch), the parameter [`tf.data.AUTOTUNE`](https://www.tensorflow.org/api_docs/python/tf/data#AUTOTUNE) will also allow TensorFlow to determine the optimal amount of compute to use to prepare datasets."
   ]
  },
  {
   "cell_type": "markdown",
   "id": "fa52a860",
   "metadata": {},
   "source": [
    "# Creating Datasets"
   ]
  },
  {
   "cell_type": "code",
   "execution_count": 161,
   "id": "ae69f726",
   "metadata": {},
   "outputs": [
    {
     "data": {
      "text/plain": [
       "<_TensorSliceDataset element_spec=(TensorSpec(shape=(), dtype=tf.string, name=None), TensorSpec(shape=(5,), dtype=tf.float64, name=None))>"
      ]
     },
     "execution_count": 161,
     "metadata": {},
     "output_type": "execute_result"
    }
   ],
   "source": [
    "# Turn our data into Tesnorflow Datasets\n",
    "\n",
    "train_dataset=tf.data.Dataset.from_tensor_slices((train_sentences,train_labels_one_hot))\n",
    "test_dataset=tf.data.Dataset.from_tensor_slices((test_sentences,test_labels_one_hot))\n",
    "val_dataset=tf.data.Dataset.from_tensor_slices((val_sentences,val_labels_one_hot))\n",
    "\n",
    "train_dataset\n"
   ]
  },
  {
   "cell_type": "code",
   "execution_count": 162,
   "id": "fb9d754d",
   "metadata": {},
   "outputs": [
    {
     "data": {
      "text/plain": [
       "<_PrefetchDataset element_spec=(TensorSpec(shape=(None,), dtype=tf.string, name=None), TensorSpec(shape=(None, 5), dtype=tf.float64, name=None))>"
      ]
     },
     "execution_count": 162,
     "metadata": {},
     "output_type": "execute_result"
    }
   ],
   "source": [
    "# Turn the TensorSliceDataset into prefetched datasets\n",
    "\n",
    "train_dataset_prefetched=train_dataset.batch(32).prefetch(tf.data.AUTOTUNE)\n",
    "test_dataset_prefetched=test_dataset.batch(32).prefetch(tf.data.AUTOTUNE)\n",
    "val_dataset_prefetched=val_dataset.batch(32).prefetch(tf.data.AUTOTUNE)\n",
    "\n",
    "train_dataset_prefetched"
   ]
  },
  {
   "cell_type": "markdown",
   "id": "c0274327",
   "metadata": {},
   "source": [
    "# Model_1 CNN1D\n",
    "\n",
    "Alright, we've now got a way to numerically represent our text and labels, time to build a series of deep models to try and improve upon our baseline.\n",
    "\n",
    "All of our deep models will follow a similar structure:\n",
    "\n",
    "Input (text) -> Tokenize -> Embedding -> Layers -> Output (label probability)\n",
    "The main component we'll be changing throughout is the Layers component. Because any modern deep NLP model requires text to be converted into an embedding before meaningful patterns can be discovered within.\n",
    "\n",
    "The first model we're going to build is a 1-dimensional Convolutional Neural Network.\n",
    "\n",
    "We're also going to be following the standard machine learning workflow of:\n",
    "\n",
    "Build model\n",
    "Train model\n",
    "Evaluate model (make predictions and compare to ground truth)"
   ]
  },
  {
   "cell_type": "code",
   "execution_count": 163,
   "id": "cffab5e5",
   "metadata": {},
   "outputs": [
    {
     "name": "stdout",
     "output_type": "stream",
     "text": [
      "(None, 55, 64)\n",
      "(None, 64)\n",
      "(None, 5)\n"
     ]
    }
   ],
   "source": [
    "from tensorflow.keras import layers\n",
    "\n",
    "inputs=layers.Input(shape=(1,),dtype='string')\n",
    "x=vectorize_layer(inputs)\n",
    "x=token_embed(x)\n",
    "x=layers.Conv1D(64,kernel_size=5,padding='same',activation='relu')(x)\n",
    "print(x.shape)\n",
    "x=layers.GlobalAveragePooling1D()(x)\n",
    "print(x.shape)\n",
    "outputs=layers.Dense(num_classes,activation='softmax')(x)\n",
    "print(outputs.shape)\n",
    "model_1=tf.keras.Model(inputs,outputs,name='CNN1D_Model1')\n",
    "\n",
    "# Compile Model1\n",
    "\n",
    "model_1.compile(loss=tf.keras.losses.categorical_crossentropy,\n",
    "              optimizer=tf.keras.optimizers.Adam(),\n",
    "              metrics='accuracy')\n",
    "\n",
    "\n",
    "                                "
   ]
  },
  {
   "cell_type": "code",
   "execution_count": 164,
   "id": "376d73f0",
   "metadata": {},
   "outputs": [
    {
     "name": "stdout",
     "output_type": "stream",
     "text": [
      "Model: \"CNN1D_Model1\"\n",
      "_________________________________________________________________\n",
      " Layer (type)                Output Shape              Param #   \n",
      "=================================================================\n",
      " input_6 (InputLayer)        [(None, 1)]               0         \n",
      "                                                                 \n",
      " text_vectorization_1 (Text  (None, 55)                0         \n",
      " Vectorization)                                                  \n",
      "                                                                 \n",
      " TokenEmbedding (Embedding)  (None, 55, 128)           8299648   \n",
      "                                                                 \n",
      " conv1d_2 (Conv1D)           (None, 55, 64)            41024     \n",
      "                                                                 \n",
      " global_average_pooling1d_1  (None, 64)                0         \n",
      "  (GlobalAveragePooling1D)                                       \n",
      "                                                                 \n",
      " dense_11 (Dense)            (None, 5)                 325       \n",
      "                                                                 \n",
      "=================================================================\n",
      "Total params: 8340997 (31.82 MB)\n",
      "Trainable params: 8340997 (31.82 MB)\n",
      "Non-trainable params: 0 (0.00 Byte)\n",
      "_________________________________________________________________\n"
     ]
    }
   ],
   "source": [
    "model_1.summary()"
   ]
  },
  {
   "cell_type": "markdown",
   "id": "731eae87",
   "metadata": {},
   "source": [
    "Wonderful! We've got our first deep sequence model built and ready to go.\n",
    "\n",
    "Checking out the model summary, you'll notice the majority of the trainable parameters are within the embedding layer. If we were to increase the size of the embedding (by increasing the output_dim parameter of the Embedding layer), the number of trainable parameters would increase dramatically.\n",
    "\n",
    "It's time to fit our model to the training data but we're going to make a mindful change.\n",
    "\n",
    "Since our training data contains nearly 200,000 sentences, fitting a deep model may take a while even with a GPU. So to keep our experiments swift, we're going to run them on a subset of the training dataset.\n",
    "\n",
    "More specifically, we'll only use the first 10% of batches (about 18,000 samples) of the training set to train on and the first 10% of batches from the validation set to validate on.\n",
    "\n",
    "🔑 Note: It's a standard practice in machine learning to test your models on smaller subsets of data first to make sure they work before scaling them to larger amounts of data. You should aim to run many smaller experiments rather than only a handful of large experiments. And since your time is limited, one of the best ways to run smaller experiments is to reduce the amount of data you're working with (10% of the full dataset is usually a good amount, as long as it covers a similar distribution)."
   ]
  },
  {
   "cell_type": "code",
   "execution_count": 165,
   "id": "1e9ccb41",
   "metadata": {},
   "outputs": [
    {
     "name": "stdout",
     "output_type": "stream",
     "text": [
      "Epoch 1/3\n",
      "562/562 [==============================] - 48s 83ms/step - loss: 0.9184 - accuracy: 0.6370 - val_loss: 0.6889 - val_accuracy: 0.7360\n",
      "Epoch 2/3\n",
      "562/562 [==============================] - 46s 82ms/step - loss: 0.6572 - accuracy: 0.7581 - val_loss: 0.6362 - val_accuracy: 0.7699\n",
      "Epoch 3/3\n",
      "562/562 [==============================] - 46s 82ms/step - loss: 0.6155 - accuracy: 0.7759 - val_loss: 0.5959 - val_accuracy: 0.7836\n"
     ]
    }
   ],
   "source": [
    "# Fit the model\n",
    "model_1_history = model_1.fit(train_dataset_prefetched,\n",
    "                              steps_per_epoch=int(0.1 * len(train_dataset_prefetched)), # only fit on 10% of batches for faster training time\n",
    "                              epochs=3,\n",
    "                              validation_data=val_dataset_prefetched,\n",
    "                              validation_steps=int(0.1 * len(val_dataset_prefetched))) # only validate on 10% of batches"
   ]
  },
  {
   "cell_type": "code",
   "execution_count": 166,
   "id": "6b6c6cea",
   "metadata": {},
   "outputs": [
    {
     "name": "stdout",
     "output_type": "stream",
     "text": [
      "945/945 [==============================] - 6s 6ms/step\n",
      "945/945 [==============================] - 6s 6ms/step - loss: 0.5967 - accuracy: 0.7875\n"
     ]
    },
    {
     "data": {
      "text/plain": [
       "array([[4.5540801e-01, 1.7661425e-01, 4.5456082e-02, 3.0381075e-01,\n",
       "        1.8710928e-02],\n",
       "       [4.1420224e-01, 3.1983495e-01, 1.1592747e-02, 2.4480748e-01,\n",
       "        9.5625343e-03],\n",
       "       [1.4542350e-01, 5.7542594e-03, 1.6706067e-03, 8.4713197e-01,\n",
       "        1.9739853e-05]], dtype=float32)"
      ]
     },
     "execution_count": 166,
     "metadata": {},
     "output_type": "execute_result"
    }
   ],
   "source": [
    "# Evaluate Model_1\n",
    "val_predict=model_1.predict(val_dataset_prefetched)\n",
    "model_1.evaluate(val_dataset_prefetched)\n",
    "val_predict[:3]"
   ]
  },
  {
   "cell_type": "code",
   "execution_count": 167,
   "id": "fa188883",
   "metadata": {},
   "outputs": [
    {
     "data": {
      "text/plain": [
       "<tf.Tensor: shape=(30212,), dtype=int64, numpy=array([0, 0, 3, ..., 4, 1, 1], dtype=int64)>"
      ]
     },
     "execution_count": 167,
     "metadata": {},
     "output_type": "execute_result"
    }
   ],
   "source": [
    "# Convert pred probs to classes\n",
    "model_1_preds = tf.argmax(val_predict, axis=1)\n",
    "model_1_preds"
   ]
  },
  {
   "cell_type": "code",
   "execution_count": 168,
   "id": "4c70da0d",
   "metadata": {},
   "outputs": [
    {
     "data": {
      "text/plain": [
       "{'accuracy': 78.75016549715345,\n",
       " 'precision': 0.7848330891527547,\n",
       " 'recall': 0.7875016549715345,\n",
       " 'f1': 0.7855305376465076}"
      ]
     },
     "execution_count": 168,
     "metadata": {},
     "output_type": "execute_result"
    }
   ],
   "source": [
    "# Calculate model_1 results\n",
    "model_1_results = calculate_results(y_true=val_label_le,\n",
    "                                    y_pred=model_1_preds)\n",
    "model_1_results"
   ]
  },
  {
   "cell_type": "code",
   "execution_count": 169,
   "id": "10d14599",
   "metadata": {},
   "outputs": [
    {
     "data": {
      "text/plain": [
       "{'accuracy': 72.1832384482987,\n",
       " 'precision': 0.7186466952323352,\n",
       " 'recall': 0.7218323844829869,\n",
       " 'f1': 0.6989250353450294}"
      ]
     },
     "execution_count": 169,
     "metadata": {},
     "output_type": "execute_result"
    }
   ],
   "source": [
    "# Calculate model_0 results\n",
    "model_0_results = calculate_results(y_true=val_label_le,\n",
    "                                    y_pred=test_predictions)\n",
    "model_0_results"
   ]
  },
  {
   "cell_type": "code",
   "execution_count": 170,
   "id": "babc71ce",
   "metadata": {},
   "outputs": [],
   "source": [
    "from sklearn.metrics import confusion_matrix\n",
    "\n",
    "cm=confusion_matrix(val_label_le,model_1_preds)"
   ]
  },
  {
   "cell_type": "code",
   "execution_count": 171,
   "id": "a311865a",
   "metadata": {},
   "outputs": [
    {
     "name": "stdout",
     "output_type": "stream",
     "text": [
      "[0 0 3 2 2 4 4 4 4 1]\n",
      "[[1. 0. 0. 0. 0.]\n",
      " [1. 0. 0. 0. 0.]\n",
      " [0. 0. 0. 1. 0.]\n",
      " [0. 0. 1. 0. 0.]\n",
      " [0. 0. 1. 0. 0.]\n",
      " [0. 0. 0. 0. 1.]\n",
      " [0. 0. 0. 0. 1.]\n",
      " [0. 0. 0. 0. 1.]\n",
      " [0. 0. 0. 0. 1.]\n",
      " [0. 1. 0. 0. 0.]]\n",
      "tf.Tensor([0 0 3 ... 4 1 1], shape=(30212,), dtype=int64)\n",
      "945/945 [==============================] - 6s 6ms/step\n"
     ]
    },
    {
     "data": {
      "text/plain": [
       "array([[4.5540801e-01, 1.7661425e-01, 4.5456082e-02, 3.0381075e-01,\n",
       "        1.8710928e-02],\n",
       "       [4.1420224e-01, 3.1983495e-01, 1.1592747e-02, 2.4480748e-01,\n",
       "        9.5625343e-03],\n",
       "       [1.4542350e-01, 5.7542594e-03, 1.6706067e-03, 8.4713197e-01,\n",
       "        1.9739853e-05],\n",
       "       [1.4951445e-05, 3.9211215e-04, 9.8021036e-01, 1.7406568e-05,\n",
       "        1.9365085e-02],\n",
       "       [9.3818898e-04, 3.9248511e-02, 2.7169237e-01, 8.5765065e-04,\n",
       "        6.8726331e-01]], dtype=float32)"
      ]
     },
     "execution_count": 171,
     "metadata": {},
     "output_type": "execute_result"
    }
   ],
   "source": [
    "print(val_label_le[:10])\n",
    "print(val_labels_one_hot[:10])\n",
    "print(model_1_preds)\n",
    "\n",
    "val_predict=model_1.predict(val_sentences)\n",
    "val_predict[:5]"
   ]
  },
  {
   "cell_type": "code",
   "execution_count": 172,
   "id": "6eb0467b",
   "metadata": {},
   "outputs": [
    {
     "data": {
      "text/plain": [
       "array([[1817,  649,  255,  685,   43],\n",
       "       [ 422, 3297,  168,  119,  576],\n",
       "       [ 113,  152, 8710,  144,  845],\n",
       "       [ 500,  248,  172, 1432,   24],\n",
       "       [  31,  486,  777,   11, 8536]], dtype=int64)"
      ]
     },
     "execution_count": 172,
     "metadata": {},
     "output_type": "execute_result"
    }
   ],
   "source": [
    "cm"
   ]
  },
  {
   "cell_type": "markdown",
   "id": "7e95d635",
   "metadata": {},
   "source": [
    "# Model 2: Feature extraction with pretrained token embeddings\n",
    "\n",
    "Training our own embeddings took a little while to run, slowing our experiments down.\n",
    "\n",
    "Since we're moving towards replicating the model architecture in [*Neural Networks for Joint Sentence Classification\n",
    "in Medical Paper Abstracts*](https://arxiv.org/pdf/1612.05251.pdf), it mentions they used a [pretrained GloVe embedding](https://nlp.stanford.edu/projects/glove/) as a way to initialise their token embeddings.\n",
    "\n",
    "To emulate this, let's see what results we can get with the [pretrained Universal Sentence Encoder embeddings from TensorFlow Hub](https://tfhub.dev/google/universal-sentence-encoder/4).\n",
    "\n",
    "> 🔑 **Note:** We could use GloVe embeddings as per the paper but since we're working with TensorFlow, we'll use what's available from TensorFlow Hub (GloVe embeddings aren't). We'll save [using pretrained GloVe embeddings](https://keras.io/examples/nlp/pretrained_word_embeddings/) as an extension.\n",
    "\n",
    "The model structure will look like:\n",
    "\n",
    "```\n",
    "Inputs (string) -> Pretrained embeddings from TensorFlow Hub (Universal Sentence Encoder) -> Layers -> Output (prediction probabilities)\n",
    "```\n",
    "\n",
    "You'll notice the lack of tokenization layer we've used in a previous model. This is because the Universal Sentence Encoder (USE) takes care of tokenization for us.\n",
    "\n",
    "This type of model is called transfer learning, or more specifically, **feature extraction transfer learning**. In other words, taking the patterns a model has learned elsewhere and applying it to our own problem.\n",
    "\n",
    "![TensorFlow Hub Universal Feature Encoder feature extractor model we're building](https://raw.githubusercontent.com/mrdbourke/tensorflow-deep-learning/main/images/09-model-tf-hub-USE-to-dense-layer.png)\n",
    "*The feature extractor model we're building using a pretrained embedding from TensorFlow Hub.*\n",
    "\n",
    "To download the pretrained USE into a layer we can use in our model, we can use the [`hub.KerasLayer`](https://www.tensorflow.org/hub/api_docs/python/hub/KerasLayer) class.\n",
    "\n",
    "We'll keep the pretrained embeddings frozen (by setting `trainable=False`) and add a trainable couple of layers on the top to tailor the model outputs to our own data.\n",
    "\n",
    "> 🔑 **Note:** Due to having to download a relatively large model (~916MB), the cell below may take a little while to run."
   ]
  },
  {
   "cell_type": "code",
   "execution_count": 176,
   "id": "0a08bc42",
   "metadata": {},
   "outputs": [],
   "source": [
    "# Download pretrained TensorFlow Hub USE\n",
    "import tensorflow_hub as hub\n",
    "#embed = hub.load(\"https://tfhub.dev/google/universal-sentence-encoder/4\")\n",
    "  \n"
   ]
  },
  {
   "cell_type": "code",
   "execution_count": 180,
   "id": "5847640c",
   "metadata": {},
   "outputs": [],
   "source": [
    "sentence_encoder_layer=hub.KerasLayer(\"https://tfhub.dev/google/universal-sentence-encoder/4\",\n",
    "                                     input_shape=[],trainable= False,                                \n",
    "                                     dtype=tf.string,name='USE')\n",
    "\n",
    "save_dir='model_logs'"
   ]
  },
  {
   "cell_type": "code",
   "execution_count": 181,
   "id": "2a6feeca",
   "metadata": {},
   "outputs": [
    {
     "name": "stdout",
     "output_type": "stream",
     "text": [
      "Random training sentence:\n",
      "the placement torques were @ and @ n cm in the self-tapping and self-drilling miniscrews , respectively ( p > @ ) .\n",
      "\n",
      "Sentence after embedding:\n",
      "[ 0.0422915  -0.05336276  0.01796304 -0.00458371  0.0759514   0.00229376\n",
      " -0.00724004  0.01077841 -0.09180538 -0.00359411 -0.01060849 -0.000168\n",
      " -0.02042739  0.06077369  0.03635165 -0.00742928 -0.00108531 -0.01838656\n",
      "  0.07195111 -0.00053476  0.058935    0.01395775 -0.00104701 -0.0759764\n",
      " -0.00845619  0.02604401  0.03059044 -0.02438454  0.0156774   0.0468303 ] (truncated output)...\n",
      "\n",
      "Length of sentence embedding:\n",
      "512\n"
     ]
    }
   ],
   "source": [
    "# Test out the embedding on a random sentence\n",
    "random_training_sentence = random.choice(train_sentences)\n",
    "print(f\"Random training sentence:\\n{random_training_sentence}\\n\")\n",
    "use_embedded_sentence = sentence_encoder_layer([random_training_sentence])\n",
    "print(f\"Sentence after embedding:\\n{use_embedded_sentence[0][:30]} (truncated output)...\\n\")\n",
    "print(f\"Length of sentence embedding:\\n{len(use_embedded_sentence[0])}\")"
   ]
  },
  {
   "cell_type": "code",
   "execution_count": 182,
   "id": "32d6bceb",
   "metadata": {},
   "outputs": [],
   "source": [
    "# Define feature extractor model using TF Hub layer\n",
    "inputs = layers.Input(shape=[], dtype=tf.string)\n",
    "pretrained_embedding = sentence_encoder_layer(inputs) # tokenize text and create embedding\n",
    "x = layers.Dense(128, activation=\"relu\")(pretrained_embedding) # add a fully connected layer on top of the embedding\n",
    "# Note: you could add more layers here if you wanted to\n",
    "outputs = layers.Dense(5, activation=\"softmax\")(x) # create the output layer\n",
    "model_2 = tf.keras.Model(inputs=inputs,\n",
    "                        outputs=outputs, name='Model_2_FeatureExtractor')\n",
    "\n",
    "# Compile the model\n",
    "model_2.compile(loss=\"categorical_crossentropy\",\n",
    "                optimizer=tf.keras.optimizers.Adam(),\n",
    "                metrics=[\"accuracy\"])"
   ]
  },
  {
   "cell_type": "code",
   "execution_count": 183,
   "id": "482bf485",
   "metadata": {},
   "outputs": [
    {
     "name": "stdout",
     "output_type": "stream",
     "text": [
      "Model: \"Model_2_FeatureExtractor\"\n",
      "_________________________________________________________________\n",
      " Layer (type)                Output Shape              Param #   \n",
      "=================================================================\n",
      " input_7 (InputLayer)        [(None,)]                 0         \n",
      "                                                                 \n",
      " USE (KerasLayer)            (None, 512)               256797824 \n",
      "                                                                 \n",
      " dense_12 (Dense)            (None, 128)               65664     \n",
      "                                                                 \n",
      " dense_13 (Dense)            (None, 5)                 645       \n",
      "                                                                 \n",
      "=================================================================\n",
      "Total params: 256864133 (979.86 MB)\n",
      "Trainable params: 66309 (259.02 KB)\n",
      "Non-trainable params: 256797824 (979.61 MB)\n",
      "_________________________________________________________________\n"
     ]
    }
   ],
   "source": [
    "# Get a summary of the model\n",
    "model_2.summary()"
   ]
  },
  {
   "cell_type": "code",
   "execution_count": 184,
   "id": "5a87c67a",
   "metadata": {},
   "outputs": [
    {
     "name": "stdout",
     "output_type": "stream",
     "text": [
      "Epoch 1/3\n",
      "562/562 [==============================] - 10s 13ms/step - loss: 0.9162 - accuracy: 0.6507 - val_loss: 0.7973 - val_accuracy: 0.6895\n",
      "Epoch 2/3\n",
      "562/562 [==============================] - 9s 16ms/step - loss: 0.7688 - accuracy: 0.7020 - val_loss: 0.7560 - val_accuracy: 0.7031\n",
      "Epoch 3/3\n",
      "562/562 [==============================] - 10s 17ms/step - loss: 0.7527 - accuracy: 0.7125 - val_loss: 0.7401 - val_accuracy: 0.7091\n"
     ]
    },
    {
     "data": {
      "text/plain": [
       "<keras.src.callbacks.History at 0x1c90a8a9210>"
      ]
     },
     "execution_count": 184,
     "metadata": {},
     "output_type": "execute_result"
    }
   ],
   "source": [
    "# Fit feature extractor model for 3 epochs\n",
    "model_2.fit(train_dataset_prefetched,\n",
    "            steps_per_epoch=int(0.1 * len(train_dataset_prefetched)),\n",
    "            epochs=3,\n",
    "            validation_data=val_dataset_prefetched,\n",
    "            validation_steps=int(0.1 * len(val_dataset_prefetched)))"
   ]
  },
  {
   "cell_type": "code",
   "execution_count": 185,
   "id": "90c8f2ef",
   "metadata": {},
   "outputs": [
    {
     "name": "stdout",
     "output_type": "stream",
     "text": [
      "945/945 [==============================] - 14s 14ms/step - loss: 0.7420 - accuracy: 0.7124\n"
     ]
    },
    {
     "data": {
      "text/plain": [
       "[0.742018461227417, 0.7123990654945374]"
      ]
     },
     "execution_count": 185,
     "metadata": {},
     "output_type": "execute_result"
    }
   ],
   "source": [
    "model_2.evaluate(val_dataset_prefetched)"
   ]
  },
  {
   "cell_type": "code",
   "execution_count": 186,
   "id": "ce210966",
   "metadata": {},
   "outputs": [
    {
     "name": "stdout",
     "output_type": "stream",
     "text": [
      "945/945 [==============================] - 14s 14ms/step\n"
     ]
    }
   ],
   "source": [
    "val_predict2=model_2.predict(val_dataset_prefetched)"
   ]
  },
  {
   "cell_type": "code",
   "execution_count": 187,
   "id": "0c8da5b5",
   "metadata": {},
   "outputs": [],
   "source": [
    "model2_prob=tf.argmax(val_predict2,axis=1)"
   ]
  },
  {
   "cell_type": "code",
   "execution_count": 188,
   "id": "5b49438b",
   "metadata": {},
   "outputs": [
    {
     "data": {
      "text/plain": [
       "{'accuracy': 71.23990467363961,\n",
       " 'precision': 0.7125562036525854,\n",
       " 'recall': 0.7123990467363961,\n",
       " 'f1': 0.7093023029519061}"
      ]
     },
     "execution_count": 188,
     "metadata": {},
     "output_type": "execute_result"
    }
   ],
   "source": [
    "model_2_results=calculate_results(val_label_le,model2_prob)\n",
    "model_2_results"
   ]
  },
  {
   "cell_type": "markdown",
   "id": "667855c3",
   "metadata": {},
   "source": [
    "### Creating a character-level tokenizer\n",
    "\n",
    "The [*Neural Networks for Joint Sentence Classification\n",
    "in Medical Paper Abstracts*](https://arxiv.org/pdf/1612.05251.pdf) paper mentions their model uses a hybrid of token and character embeddings.\n",
    "\n",
    "We've built models with a custom token embedding and a pretrained token embedding, how about we build one using a character embedding?\n",
    "\n",
    "The difference between a character and token embedding is that the **character embedding** is created using sequences split into characters (e.g. `hello` -> [`h`, `e`, `l`, `l`, `o`]) where as a **token embedding** is created on sequences split into tokens.\n",
    "\n",
    "![example of difference between token level and character level embeddings](https://raw.githubusercontent.com/mrdbourke/tensorflow-deep-learning/main/images/09-token-vs-character-embeddings.png)\n",
    "*Token level embeddings split sequences into tokens (words) and embeddings each of them, character embeddings split sequences into characters and creates a feature vector for each.*\n",
    "\n",
    "We can create a character-level embedding by first vectorizing our sequences (after they've been split into characters) using the [`TextVectorization`](https://www.tensorflow.org/api_docs/python/tf/keras/layers/experimental/preprocessing/TextVectorization) class and then passing those vectorized sequences through an [`Embedding`](https://www.tensorflow.org/api_docs/python/tf/keras/layers/Embedding) layer.\n",
    "\n",
    "Before we can vectorize our sequences on a character-level we'll need to split them into characters. Let's write a function to do so."
   ]
  },
  {
   "cell_type": "code",
   "execution_count": 189,
   "id": "0cf6fa7f",
   "metadata": {},
   "outputs": [],
   "source": [
    "# Creating Character Level Tokenizer\n",
    "\n",
    "# Make a function to split sentences into characters\n",
    "\n",
    "def get_characters(sentences):\n",
    "    return \" \".join(list(sentences))\n",
    "\n",
    "\n",
    "        "
   ]
  },
  {
   "cell_type": "code",
   "execution_count": 190,
   "id": "ab1bb7d1",
   "metadata": {},
   "outputs": [
    {
     "data": {
      "text/plain": [
       "180040"
      ]
     },
     "execution_count": 190,
     "metadata": {},
     "output_type": "execute_result"
    }
   ],
   "source": [
    "# Split training, test and Val sentences into characters\n",
    "\n",
    "train_chars=[get_characters(sentence) for sentence in train_sentences]\n",
    "test_chars=[get_characters(sentence) for sentence in test_sentences]\n",
    "val_chars=[get_characters(sentence) for sentence in val_sentences]\n",
    "len(train_chars)"
   ]
  },
  {
   "cell_type": "code",
   "execution_count": 191,
   "id": "3a693e89",
   "metadata": {},
   "outputs": [
    {
     "data": {
      "text/plain": [
       "['t o   i n v e s t i g a t e   t h e   e f f i c a c y   o f   @   w e e k s   o f   d a i l y   l o w - d o s e   o r a l   p r e d n i s o l o n e   i n   i m p r o v i n g   p a i n   ,   m o b i l i t y   ,   a n d   s y s t e m i c   l o w - g r a d e   i n f l a m m a t i o n   i n   t h e   s h o r t   t e r m   a n d   w h e t h e r   t h e   e f f e c t   w o u l d   b e   s u s t a i n e d   a t   @   w e e k s   i n   o l d e r   a d u l t s   w i t h   m o d e r a t e   t o   s e v e r e   k n e e   o s t e o a r t h r i t i s   (   o a   )   .',\n",
       " 'a   t o t a l   o f   @   p a t i e n t s   w i t h   p r i m a r y   k n e e   o a   w e r e   r a n d o m i z e d   @ : @   ;   @   r e c e i v e d   @   m g / d a y   o f   p r e d n i s o l o n e   a n d   @   r e c e i v e d   p l a c e b o   f o r   @   w e e k s   .']"
      ]
     },
     "execution_count": 191,
     "metadata": {},
     "output_type": "execute_result"
    }
   ],
   "source": [
    "train_chars[:2]"
   ]
  },
  {
   "cell_type": "code",
   "execution_count": 192,
   "id": "c7a6ac93",
   "metadata": {},
   "outputs": [
    {
     "data": {
      "text/plain": [
       "149.3662574983337"
      ]
     },
     "execution_count": 192,
     "metadata": {},
     "output_type": "execute_result"
    }
   ],
   "source": [
    "# What's the avg character length:\n",
    "total_char=[len(i) for i in train_sentences]\n",
    "avg_chars_train=np.mean([len(i) for i in train_sentences])\n",
    "avg_chars_train"
   ]
  },
  {
   "cell_type": "code",
   "execution_count": 193,
   "id": "f8cdf920",
   "metadata": {},
   "outputs": [],
   "source": [
    "# Check the distribution of sequence at character level"
   ]
  },
  {
   "cell_type": "code",
   "execution_count": 194,
   "id": "4367bc21",
   "metadata": {},
   "outputs": [
    {
     "data": {
      "image/png": "[encoded data removed]",
      "text/plain": [
       "<Figure size 640x480 with 1 Axes>"
      ]
     },
     "metadata": {},
     "output_type": "display_data"
    }
   ],
   "source": [
    "plt.hist(total_char, bins=25)\n",
    "plt.show()"
   ]
  },
  {
   "cell_type": "code",
   "execution_count": 195,
   "id": "393f8f3d",
   "metadata": {},
   "outputs": [
    {
     "data": {
      "text/plain": [
       "290.0"
      ]
     },
     "execution_count": 195,
     "metadata": {},
     "output_type": "execute_result"
    }
   ],
   "source": [
    "# How many characters in sentence to cover 95%\n",
    "char_len_95=np.percentile(total_char,95)\n",
    "char_len_95"
   ]
  },
  {
   "cell_type": "code",
   "execution_count": 196,
   "id": "69f52d39",
   "metadata": {},
   "outputs": [
    {
     "data": {
      "text/plain": [
       "68"
      ]
     },
     "execution_count": 196,
     "metadata": {},
     "output_type": "execute_result"
    }
   ],
   "source": [
    "# Get all keyboard characters\n",
    "import string\n",
    "alphabet=string.ascii_lowercase+string.digits+string.punctuation\n",
    "len(alphabet)"
   ]
  },
  {
   "cell_type": "code",
   "execution_count": 197,
   "id": "3633a4ab",
   "metadata": {},
   "outputs": [],
   "source": [
    "# Create Char Level Token Vectorizer Instance\n",
    "\n",
    "Num_Char_Tokens=len(alphabet)+2\n",
    "\n",
    "char_vectorizer=tf.keras.layers.TextVectorization(max_tokens=Num_Char_Tokens,output_sequence_length=int(char_len_95),\n",
    "                                                  name='char_vectorizer')"
   ]
  },
  {
   "cell_type": "code",
   "execution_count": 198,
   "id": "d63a0519",
   "metadata": {},
   "outputs": [],
   "source": [
    "# Adapt character vectorizer to training characters\n",
    "\n",
    "char_vectorizer.adapt(train_chars)"
   ]
  },
  {
   "cell_type": "code",
   "execution_count": 199,
   "id": "1414f30b",
   "metadata": {},
   "outputs": [
    {
     "name": "stdout",
     "output_type": "stream",
     "text": [
      "Number of different character in character vocab: 28\n",
      "Top 5 most common characters: ['', '[UNK]', 'e', 't', 'i']\n",
      "Least 5 most common characters: ['k', 'x', 'z', 'q', 'j']\n"
     ]
    }
   ],
   "source": [
    "# Check character vocab stats\n",
    "\n",
    "char_vocab=char_vectorizer.get_vocabulary()\n",
    "print(f'Number of different character in character vocab: {len(char_vocab)}')\n",
    "print(f'Top 5 most common characters: {char_vocab[:5]}')\n",
    "print(f'Least 5 most common characters: {char_vocab[-5:]}')"
   ]
  },
  {
   "cell_type": "code",
   "execution_count": 200,
   "id": "f8121e49",
   "metadata": {},
   "outputs": [
    {
     "name": "stdout",
     "output_type": "stream",
     "text": [
      "leuprorelin acetate maybe better tolerated than triptorelin .\n",
      "61\n",
      "tf.Tensor(\n",
      "[12  2 16 14  8  7  8  2 12  4  6  5 11  2  3  5  3  2 15  5 19 22  2 22\n",
      "  2  3  3  2  8  3  7 12  2  8  5  3  2 10  3 13  5  6  3  8  4 14  3  7\n",
      "  8  2 12  4  6  0  0  0  0  0  0  0  0  0  0  0  0  0  0  0  0  0  0  0\n",
      "  0  0  0  0  0  0  0  0  0  0  0  0  0  0  0  0  0  0  0  0  0  0  0  0\n",
      "  0  0  0  0  0  0  0  0  0  0  0  0  0  0  0  0  0  0  0  0  0  0  0  0\n",
      "  0  0  0  0  0  0  0  0  0  0  0  0  0  0  0  0  0  0  0  0  0  0  0  0\n",
      "  0  0  0  0  0  0  0  0  0  0  0  0  0  0  0  0  0  0  0  0  0  0  0  0\n",
      "  0  0  0  0  0  0  0  0  0  0  0  0  0  0  0  0  0  0  0  0  0  0  0  0\n",
      "  0  0  0  0  0  0  0  0  0  0  0  0  0  0  0  0  0  0  0  0  0  0  0  0\n",
      "  0  0  0  0  0  0  0  0  0  0  0  0  0  0  0  0  0  0  0  0  0  0  0  0\n",
      "  0  0  0  0  0  0  0  0  0  0  0  0  0  0  0  0  0  0  0  0  0  0  0  0\n",
      "  0  0  0  0  0  0  0  0  0  0  0  0  0  0  0  0  0  0  0  0  0  0  0  0\n",
      "  0  0], shape=(290,), dtype=int64)\n"
     ]
    }
   ],
   "source": [
    "# Test character vectorizer on random sentences\n",
    "\n",
    "import random\n",
    "target_sentence=random.choice(train_sentences)\n",
    "print(target_sentence)\n",
    "print(len(target_sentence))\n",
    "print(char_vectorizer(get_characters(target_sentence)))"
   ]
  },
  {
   "cell_type": "markdown",
   "id": "27fdea45",
   "metadata": {},
   "source": [
    "# Creating a Character Level Embedding\n",
    "\n"
   ]
  },
  {
   "cell_type": "code",
   "execution_count": 201,
   "id": "182deaad",
   "metadata": {},
   "outputs": [],
   "source": [
    "char_token_embed=tf.keras.layers.Embedding(input_dim=len(char_vocab), output_dim=25,mask_zero=True, name='CharacterEmbedding')\n",
    "\n"
   ]
  },
  {
   "cell_type": "code",
   "execution_count": 202,
   "id": "e9f27222",
   "metadata": {},
   "outputs": [
    {
     "name": "stdout",
     "output_type": "stream",
     "text": [
      "Charified text (before vectorization and embedding):\n",
      "l e u p r o r e l i n   a c e t a t e   m a y b e   b e t t e r   t o l e r a t e d   t h a n   t r i p t o r e l i n   .\n",
      "\n",
      "Embedded chars (after vectorization and embedding):\n",
      "[[[ 0.02447924  0.02143805 -0.03193473 ... -0.0261915   0.00387025\n",
      "    0.02430831]\n",
      "  [ 0.00257819 -0.0292776   0.00938132 ...  0.01697227 -0.02644728\n",
      "   -0.04523705]\n",
      "  [-0.01858395  0.03153424 -0.01332065 ... -0.03799021 -0.00589412\n",
      "    0.0289142 ]\n",
      "  ...\n",
      "  [-0.01043333  0.04728669 -0.04185273 ... -0.04171085  0.00044993\n",
      "   -0.02209498]\n",
      "  [-0.01043333  0.04728669 -0.04185273 ... -0.04171085  0.00044993\n",
      "   -0.02209498]\n",
      "  [-0.01043333  0.04728669 -0.04185273 ... -0.04171085  0.00044993\n",
      "   -0.02209498]]]\n",
      "\n",
      "Character embedding shape: (1, 290, 25)\n"
     ]
    }
   ],
   "source": [
    "\n",
    "# Test out character embedding layer\n",
    "print(f\"Charified text (before vectorization and embedding):\\n{get_characters(target_sentence)}\\n\")\n",
    "char_embed_example = char_token_embed(char_vectorizer([get_characters(target_sentence)]))\n",
    "print(f\"Embedded chars (after vectorization and embedding):\\n{char_embed_example}\\n\")\n",
    "print(f\"Character embedding shape: {char_embed_example.shape}\")"
   ]
  },
  {
   "cell_type": "code",
   "execution_count": 203,
   "id": "ae2dce60",
   "metadata": {},
   "outputs": [],
   "source": [
    "# Create chare level datasets:\n",
    "\n",
    "train_char_dataset=tf.data.Dataset.from_tensor_slices((train_chars,train_labels_one_hot)).batch(32).prefetch(tf.data.AUTOTUNE)\n",
    "test_char_dataset=tf.data.Dataset.from_tensor_slices((test_chars,test_labels_one_hot)).batch(32).prefetch(tf.data.AUTOTUNE)\n",
    "val_char_dataset=tf.data.Dataset.from_tensor_slices((val_chars,val_labels_one_hot)).batch(32).prefetch(tf.data.AUTOTUNE)"
   ]
  },
  {
   "cell_type": "markdown",
   "id": "d253e346",
   "metadata": {},
   "source": [
    "# Model_3 Character Level Embedding CNN1D\n",
    "\n"
   ]
  },
  {
   "cell_type": "code",
   "execution_count": 204,
   "id": "c32ef772",
   "metadata": {},
   "outputs": [
    {
     "name": "stdout",
     "output_type": "stream",
     "text": [
      "(None, 290, 64)\n",
      "(None, 64)\n",
      "(None, 5)\n"
     ]
    }
   ],
   "source": [
    "from tensorflow.keras import layers\n",
    "\n",
    "inputs=layers.Input(shape=(1,),dtype='string')\n",
    "x=char_vectorizer(inputs)\n",
    "x=char_token_embed(x)\n",
    "x=layers.Conv1D(64,kernel_size=3,padding='same',activation='relu')(x)\n",
    "print(x.shape)\n",
    "x=layers.GlobalMaxPooling1D()(x)\n",
    "print(x.shape)\n",
    "outputs=layers.Dense(num_classes,activation='softmax')(x)\n",
    "print(outputs.shape)\n",
    "model_3=tf.keras.Model(inputs,outputs,name='CNN1D_Model3')\n",
    "\n",
    "# Compile Model5\n",
    "\n",
    "model_3.compile(loss=tf.keras.losses.categorical_crossentropy,\n",
    "              optimizer=tf.keras.optimizers.Adam(),\n",
    "              metrics='accuracy')\n",
    "\n",
    "\n",
    "                                "
   ]
  },
  {
   "cell_type": "code",
   "execution_count": 205,
   "id": "87a1db62",
   "metadata": {},
   "outputs": [
    {
     "name": "stdout",
     "output_type": "stream",
     "text": [
      "Model: \"CNN1D_Model3\"\n",
      "_________________________________________________________________\n",
      " Layer (type)                Output Shape              Param #   \n",
      "=================================================================\n",
      " input_8 (InputLayer)        [(None, 1)]               0         \n",
      "                                                                 \n",
      " char_vectorizer (TextVecto  (None, 290)               0         \n",
      " rization)                                                       \n",
      "                                                                 \n",
      " CharacterEmbedding (Embedd  (None, 290, 25)           700       \n",
      " ing)                                                            \n",
      "                                                                 \n",
      " conv1d_3 (Conv1D)           (None, 290, 64)           4864      \n",
      "                                                                 \n",
      " global_max_pooling1d_1 (Gl  (None, 64)                0         \n",
      " obalMaxPooling1D)                                               \n",
      "                                                                 \n",
      " dense_14 (Dense)            (None, 5)                 325       \n",
      "                                                                 \n",
      "=================================================================\n",
      "Total params: 5889 (23.00 KB)\n",
      "Trainable params: 5889 (23.00 KB)\n",
      "Non-trainable params: 0 (0.00 Byte)\n",
      "_________________________________________________________________\n"
     ]
    }
   ],
   "source": [
    "model_3.summary()"
   ]
  },
  {
   "cell_type": "code",
   "execution_count": 206,
   "id": "a78c48ec",
   "metadata": {},
   "outputs": [
    {
     "name": "stdout",
     "output_type": "stream",
     "text": [
      "Epoch 1/3\n",
      "562/562 [==============================] - 12s 14ms/step - loss: 1.3677 - accuracy: 0.4465 - val_loss: 1.1708 - val_accuracy: 0.5432\n",
      "Epoch 2/3\n",
      "562/562 [==============================] - 8s 15ms/step - loss: 1.1031 - accuracy: 0.5532 - val_loss: 1.0284 - val_accuracy: 0.5908\n",
      "Epoch 3/3\n",
      "562/562 [==============================] - 8s 14ms/step - loss: 1.0257 - accuracy: 0.5877 - val_loss: 0.9680 - val_accuracy: 0.6077\n"
     ]
    },
    {
     "data": {
      "text/plain": [
       "<keras.src.callbacks.History at 0x1c9ee3d5f60>"
      ]
     },
     "execution_count": 206,
     "metadata": {},
     "output_type": "execute_result"
    }
   ],
   "source": [
    "# Fit Model 3\n",
    "model_3.fit(train_char_dataset,\n",
    "            steps_per_epoch=int(0.1 * len(train_char_dataset)),\n",
    "            epochs=3,\n",
    "            validation_data=val_char_dataset,\n",
    "            validation_steps=int(0.1 * len(val_char_dataset)))"
   ]
  },
  {
   "cell_type": "code",
   "execution_count": 207,
   "id": "38db5f63",
   "metadata": {},
   "outputs": [
    {
     "name": "stdout",
     "output_type": "stream",
     "text": [
      "945/945 [==============================] - 7s 7ms/step - loss: 0.9851 - accuracy: 0.6094\n"
     ]
    },
    {
     "data": {
      "text/plain": [
       "[0.9851462244987488, 0.609426736831665]"
      ]
     },
     "execution_count": 207,
     "metadata": {},
     "output_type": "execute_result"
    }
   ],
   "source": [
    "model_3.evaluate(val_char_dataset)"
   ]
  },
  {
   "cell_type": "code",
   "execution_count": 208,
   "id": "355aa232",
   "metadata": {},
   "outputs": [
    {
     "name": "stdout",
     "output_type": "stream",
     "text": [
      "945/945 [==============================] - 7s 8ms/step\n"
     ]
    }
   ],
   "source": [
    "model_3_pred=model_3.predict(val_char_dataset)"
   ]
  },
  {
   "cell_type": "code",
   "execution_count": 209,
   "id": "eb973ac2",
   "metadata": {},
   "outputs": [
    {
     "data": {
      "text/plain": [
       "array([3, 1, 3, ..., 4, 2, 0], dtype=int64)"
      ]
     },
     "execution_count": 209,
     "metadata": {},
     "output_type": "execute_result"
    }
   ],
   "source": [
    "model_3_pred=np.argmax(model_3_pred,axis=1)\n",
    "model_3_pred"
   ]
  },
  {
   "cell_type": "code",
   "execution_count": 210,
   "id": "208341b6",
   "metadata": {},
   "outputs": [
    {
     "data": {
      "text/plain": [
       "{'accuracy': 60.942671786045274,\n",
       " 'precision': 0.6023438553406233,\n",
       " 'recall': 0.6094267178604528,\n",
       " 'f1': 0.5948165146347589}"
      ]
     },
     "execution_count": 210,
     "metadata": {},
     "output_type": "execute_result"
    }
   ],
   "source": [
    "model_3_results=calculate_results(val_label_le,model_3_pred)\n",
    "model_3_results"
   ]
  },
  {
   "cell_type": "markdown",
   "id": "6a48df39",
   "metadata": {},
   "source": [
    "# Model 4 Combining pretrained token embedding + character embedding \n",
    "\n",
    "In moving closer to build a model similar to the one in Figure 1 of Neural Networks for Joint Sentence Classification in Medical Paper Abstracts, it's time we tackled the hybrid token embedding layer they speak of.\n",
    "\n",
    "This hybrid token embedding layer is a combination of token embeddings and character embeddings. In other words, they create a stacked embedding to represent sequences before passing them to the sequence label prediction layer.\n",
    "\n",
    "So far we've built two models which have used token and character-level embeddings, however, these two models have used each of these embeddings exclusively.\n",
    "\n",
    "To start replicating (or getting close to replicating) the model in Figure 1, we're going to go through the following steps:"
   ]
  },
  {
   "cell_type": "markdown",
   "id": "a29a13ba",
   "metadata": {},
   "source": [
    "1. Create a token level embedding model\n",
    "2. Create a character level embedding model\n",
    "3. Concatenate both models\n",
    "4. Build a series of output layers\n",
    "5. Construct a model with take token and character level sequences as inputs "
   ]
  },
  {
   "cell_type": "code",
   "execution_count": 211,
   "id": "9dccabfb",
   "metadata": {},
   "outputs": [],
   "source": [
    "# Setup token inputs/model\n",
    "\n",
    "token_inputs=tf.keras.layers.Input(shape=[],dtype='string')\n",
    "token_embedding=sentence_encoder_layer(token_inputs)\n",
    "token_outputs=tf.keras.layers.Dense(128,activation='relu')(token_embedding)\n",
    "token_model=tf.keras.Model(token_inputs,token_outputs)\n",
    "\n",
    "# Setup character level embedded model\n",
    "\n",
    "char_inputs=tf.keras.layers.Input(shape=[],dtype='string')\n",
    "char_vectors=char_vectorizer(char_inputs)\n",
    "char_embeddings=char_token_embed(char_vectors)\n",
    "char_bi_lstm=tf.keras.layers.Bidirectional(layers.LSTM(24))(char_embeddings)\n",
    "char_model=tf.keras.Model(char_inputs,char_bi_lstm)\n",
    "\n",
    "# Concatenate token and char embedded models\n",
    "\n",
    "token_char_concat=tf.keras.layers.Concatenate(name='token_char_hybrid')([token_model.output,char_model.output])\n",
    "\n",
    "# Create output layer\n",
    "\n",
    "combined_dropout=tf.keras.layers.Dropout(.5)(token_char_concat)\n",
    "combined_dense=tf.keras.layers.Dense(128,activation='relu')(combined_dropout)\n",
    "final_dropout=tf.keras.layers.Dropout(.5)(combined_dense)\n",
    "output_layer=tf.keras.layers.Dense(num_classes,activation='softmax')(final_dropout)\n",
    "\n",
    "\n",
    "# Construct Models with char and token inputs\n",
    "\n",
    "model_4=tf.keras.Model(inputs=[token_model.input,char_model.input],outputs=output_layer,name='Model4_Token_Char_HybridModel')"
   ]
  },
  {
   "cell_type": "code",
   "execution_count": 212,
   "id": "4c6c32b8",
   "metadata": {},
   "outputs": [
    {
     "name": "stdout",
     "output_type": "stream",
     "text": [
      "Model: \"Model4_Token_Char_HybridModel\"\n",
      "__________________________________________________________________________________________________\n",
      " Layer (type)                Output Shape                 Param #   Connected to                  \n",
      "==================================================================================================\n",
      " input_10 (InputLayer)       [(None,)]                    0         []                            \n",
      "                                                                                                  \n",
      " input_9 (InputLayer)        [(None,)]                    0         []                            \n",
      "                                                                                                  \n",
      " char_vectorizer (TextVecto  (None, 290)                  0         ['input_10[0][0]']            \n",
      " rization)                                                                                        \n",
      "                                                                                                  \n",
      " USE (KerasLayer)            (None, 512)                  2567978   ['input_9[0][0]']             \n",
      "                                                          24                                      \n",
      "                                                                                                  \n",
      " CharacterEmbedding (Embedd  (None, 290, 25)              700       ['char_vectorizer[1][0]']     \n",
      " ing)                                                                                             \n",
      "                                                                                                  \n",
      " dense_15 (Dense)            (None, 128)                  65664     ['USE[1][0]']                 \n",
      "                                                                                                  \n",
      " bidirectional_2 (Bidirecti  (None, 48)                   9600      ['CharacterEmbedding[1][0]']  \n",
      " onal)                                                                                            \n",
      "                                                                                                  \n",
      " token_char_hybrid (Concate  (None, 176)                  0         ['dense_15[0][0]',            \n",
      " nate)                                                               'bidirectional_2[0][0]']     \n",
      "                                                                                                  \n",
      " dropout_3 (Dropout)         (None, 176)                  0         ['token_char_hybrid[0][0]']   \n",
      "                                                                                                  \n",
      " dense_16 (Dense)            (None, 128)                  22656     ['dropout_3[0][0]']           \n",
      "                                                                                                  \n",
      " dropout_4 (Dropout)         (None, 128)                  0         ['dense_16[0][0]']            \n",
      "                                                                                                  \n",
      " dense_17 (Dense)            (None, 5)                    645       ['dropout_4[0][0]']           \n",
      "                                                                                                  \n",
      "==================================================================================================\n",
      "Total params: 256897089 (979.98 MB)\n",
      "Trainable params: 99265 (387.75 KB)\n",
      "Non-trainable params: 256797824 (979.61 MB)\n",
      "__________________________________________________________________________________________________\n"
     ]
    }
   ],
   "source": [
    "# Fit Model_4\n",
    "\n",
    "model_4.summary()"
   ]
  },
  {
   "cell_type": "code",
   "execution_count": 213,
   "id": "05180aab",
   "metadata": {},
   "outputs": [
    {
     "name": "stdout",
     "output_type": "stream",
     "text": [
      "You must install pydot (`pip install pydot`) and install graphviz (see instructions at https://graphviz.gitlab.io/download/) for plot_model to work.\n"
     ]
    }
   ],
   "source": [
    "from keras.utils import plot_model\n",
    "plot_model(model_4)"
   ]
  },
  {
   "cell_type": "code",
   "execution_count": 214,
   "id": "0dee120d",
   "metadata": {},
   "outputs": [],
   "source": [
    "import graphviz"
   ]
  },
  {
   "cell_type": "code",
   "execution_count": 215,
   "id": "b43a1c99",
   "metadata": {},
   "outputs": [
    {
     "name": "stdout",
     "output_type": "stream",
     "text": [
      "You must install pydot (`pip install pydot`) and install graphviz (see instructions at https://graphviz.gitlab.io/download/) for plot_model to work.\n"
     ]
    }
   ],
   "source": [
    "plot_model(model_4)"
   ]
  },
  {
   "cell_type": "code",
   "execution_count": 216,
   "id": "ece20c7d",
   "metadata": {},
   "outputs": [],
   "source": [
    "# Compile Model_4\n",
    "\n",
    "model_4.compile(loss=tf.keras.losses.categorical_crossentropy,\n",
    "               optimizer='Adam',\n",
    "               metrics='Accuracy')"
   ]
  },
  {
   "cell_type": "markdown",
   "id": "858c3c9a",
   "metadata": {},
   "source": [
    "# Prefetching Datasets for fast processing"
   ]
  },
  {
   "cell_type": "code",
   "execution_count": 217,
   "id": "2b7a3719",
   "metadata": {},
   "outputs": [],
   "source": [
    "# Combine chars and tokens into a dataset:\n",
    "\n",
    "\n",
    "train_token_char_data=tf.data.Dataset.from_tensor_slices((train_sentences,train_chars))\n",
    "train_token_char_labels=tf.data.Dataset.from_tensor_slices(train_labels_one_hot)\n",
    "train_token_char_dataset=tf.data.Dataset.zip((train_token_char_data,train_token_char_labels))\n",
    "\n",
    "test_token_char_data=tf.data.Dataset.from_tensor_slices((test_sentences,test_chars))\n",
    "test_token_char_labels=tf.data.Dataset.from_tensor_slices(test_labels_one_hot)\n",
    "test_token_char_dataset=tf.data.Dataset.zip((test_token_char_data,test_token_char_labels))\n",
    "\n",
    "val_token_char_data=tf.data.Dataset.from_tensor_slices((val_sentences,val_chars))\n",
    "val_token_char_labels=tf.data.Dataset.from_tensor_slices(val_labels_one_hot)\n",
    "val_token_char_dataset=tf.data.Dataset.zip((val_token_char_data,val_token_char_labels))\n"
   ]
  },
  {
   "cell_type": "code",
   "execution_count": 218,
   "id": "9fb0b176",
   "metadata": {},
   "outputs": [],
   "source": [
    "# Prefetch and batch datasets:\n",
    "\n",
    "train_token_char_dataset=train_token_char_dataset.batch(32).prefetch(tf.data.AUTOTUNE)\n",
    "test_token_char_dataset=test_token_char_dataset.batch(32).prefetch(tf.data.AUTOTUNE)\n",
    "val_token_char_dataset=val_token_char_dataset.batch(32).prefetch(tf.data.AUTOTUNE)"
   ]
  },
  {
   "cell_type": "code",
   "execution_count": 219,
   "id": "2a55c7b5",
   "metadata": {},
   "outputs": [
    {
     "name": "stdout",
     "output_type": "stream",
     "text": [
      "Epoch 1/3\n",
      "562/562 [==============================] - 78s 124ms/step - loss: 0.9758 - Accuracy: 0.6124 - val_loss: 0.7730 - val_Accuracy: 0.7031\n",
      "Epoch 2/3\n",
      "562/562 [==============================] - 69s 123ms/step - loss: 0.8003 - Accuracy: 0.6901 - val_loss: 0.7192 - val_Accuracy: 0.7324\n",
      "Epoch 3/3\n",
      "562/562 [==============================] - 72s 128ms/step - loss: 0.7739 - Accuracy: 0.7051 - val_loss: 0.6934 - val_Accuracy: 0.7367\n"
     ]
    }
   ],
   "source": [
    "# Fit the model_4\n",
    "\n",
    "history_model_4=model_4.fit(train_token_char_dataset,steps_per_epoch=int(.1*len(train_token_char_dataset)), epochs=3,validation_data=val_token_char_dataset,\n",
    "                            validation_steps=int(.1*len(val_token_char_dataset))\n",
    "                            )"
   ]
  },
  {
   "cell_type": "code",
   "execution_count": 220,
   "id": "b877474c",
   "metadata": {},
   "outputs": [
    {
     "name": "stdout",
     "output_type": "stream",
     "text": [
      "945/945 [==============================] - 35s 37ms/step - loss: 0.6970 - Accuracy: 0.7352\n"
     ]
    },
    {
     "data": {
      "text/plain": [
       "[0.6969851851463318, 0.7352045774459839]"
      ]
     },
     "execution_count": 220,
     "metadata": {},
     "output_type": "execute_result"
    }
   ],
   "source": [
    "model_4.evaluate(val_token_char_dataset)"
   ]
  },
  {
   "cell_type": "code",
   "execution_count": 221,
   "id": "e311ca09",
   "metadata": {},
   "outputs": [
    {
     "name": "stdout",
     "output_type": "stream",
     "text": [
      "945/945 [==============================] - 44s 42ms/step\n"
     ]
    }
   ],
   "source": [
    "pred_4=model_4.predict(val_token_char_dataset)\n"
   ]
  },
  {
   "cell_type": "code",
   "execution_count": 222,
   "id": "0ef738e3",
   "metadata": {},
   "outputs": [
    {
     "name": "stdout",
     "output_type": "stream",
     "text": [
      "tf.Tensor([0 1 3 2 2], shape=(5,), dtype=int64)\n"
     ]
    },
    {
     "data": {
      "text/plain": [
       "{'accuracy': 73.52045544816629,\n",
       " 'precision': 0.7355847893360452,\n",
       " 'recall': 0.7352045544816629,\n",
       " 'f1': 0.733638908373125}"
      ]
     },
     "execution_count": 222,
     "metadata": {},
     "output_type": "execute_result"
    }
   ],
   "source": [
    "model4_preds=tf.argmax(pred_4,axis=1)\n",
    "print(model4_preds[:5])\n",
    "model_4_results=calculate_results(val_label_le,model4_preds)\n",
    "model_4_results"
   ]
  },
  {
   "cell_type": "markdown",
   "id": "f492fa5d",
   "metadata": {},
   "source": [
    "# Model 5: Transfer Learning with pretrained token embeddings + character embeddings + positional embeddings \n",
    "\n",
    "It seems like combining token embeddings and character embeddings gave our model a little performance boost.\n",
    "\n",
    "But there's one more piece of the puzzle we can add in.\n",
    "\n",
    "What if we engineered our own features into the model?\n",
    "\n",
    "Meaning, what if we took our own knowledge about the data and encoded it in a numerical way to give our model more information about our samples?\n",
    "\n",
    "The process of applying your own knowledge to build features as input to a model is called **feature engineering**.\n",
    "\n",
    "Can you think of something important about the sequences we're trying to classify?\n",
    "\n",
    "If you were to look at an abstract, would you expect the sentences to appear in order? Or does it make sense if they were to appear sequentially? For example, sequences labelled `CONCLUSIONS` at the beggining and sequences labelled `OBJECTIVE` at the end?\n",
    "\n",
    "Abstracts typically come in a sequential order, such as:\n",
    "* `OBJECTIVE` ...\n",
    "* `METHODS` ...\n",
    "* `METHODS` ...\n",
    "* `METHODS` ...\n",
    "* `RESULTS` ...\n",
    "* `CONCLUSIONS` ...\n",
    "\n",
    "Or\n",
    "\n",
    "* `BACKGROUND` ...\n",
    "* `OBJECTIVE` ...\n",
    "* `METHODS` ...\n",
    "* `METHODS` ...\n",
    "* `RESULTS` ...\n",
    "* `RESULTS` ...\n",
    "* `CONCLUSIONS` ...\n",
    "* `CONCLUSIONS` ...\n",
    "\n",
    "Of course, we can't engineer the sequence labels themselves into the training data (we don't have these at test time), but we can encode the order of a set of sequences in an abstract.\n",
    "\n",
    "For example,\n",
    "* `Sentence 1 of 10` ...\n",
    "* `Sentence 2 of 10` ...\n",
    "* `Sentence 3 of 10` ...\n",
    "* `Sentence 4 of 10` ...\n",
    "* ...\n",
    "\n",
    "\n",
    "You might've noticed this when we created our `preprocess_text_with_line_numbers()` function. When we read in a text file of abstracts, we counted the number of lines in an abstract as well as the number of each line itself.\n",
    "\n",
    "Doing this led to the `\"line_number\"` and `\"total_lines\"` columns of our DataFrames."
   ]
  },
  {
   "cell_type": "code",
   "execution_count": 223,
   "id": "f97057c0",
   "metadata": {},
   "outputs": [
    {
     "data": {
      "text/html": [
       "<div>\n",
       "<style scoped>\n",
       "    .dataframe tbody tr th:only-of-type {\n",
       "        vertical-align: middle;\n",
       "    }\n",
       "\n",
       "    .dataframe tbody tr th {\n",
       "        vertical-align: top;\n",
       "    }\n",
       "\n",
       "    .dataframe thead th {\n",
       "        text-align: right;\n",
       "    }\n",
       "</style>\n",
       "<table border=\"1\" class=\"dataframe\">\n",
       "  <thead>\n",
       "    <tr style=\"text-align: right;\">\n",
       "      <th></th>\n",
       "      <th>target</th>\n",
       "      <th>text</th>\n",
       "      <th>line_number</th>\n",
       "      <th>total_lines</th>\n",
       "    </tr>\n",
       "  </thead>\n",
       "  <tbody>\n",
       "    <tr>\n",
       "      <th>0</th>\n",
       "      <td>OBJECTIVE</td>\n",
       "      <td>to investigate the efficacy of @ weeks of dail...</td>\n",
       "      <td>0</td>\n",
       "      <td>11</td>\n",
       "    </tr>\n",
       "    <tr>\n",
       "      <th>1</th>\n",
       "      <td>METHODS</td>\n",
       "      <td>a total of @ patients with primary knee oa wer...</td>\n",
       "      <td>1</td>\n",
       "      <td>11</td>\n",
       "    </tr>\n",
       "    <tr>\n",
       "      <th>2</th>\n",
       "      <td>METHODS</td>\n",
       "      <td>outcome measures included pain reduction and i...</td>\n",
       "      <td>2</td>\n",
       "      <td>11</td>\n",
       "    </tr>\n",
       "    <tr>\n",
       "      <th>3</th>\n",
       "      <td>METHODS</td>\n",
       "      <td>pain was assessed using the visual analog pain...</td>\n",
       "      <td>3</td>\n",
       "      <td>11</td>\n",
       "    </tr>\n",
       "    <tr>\n",
       "      <th>4</th>\n",
       "      <td>METHODS</td>\n",
       "      <td>secondary outcome measures included the wester...</td>\n",
       "      <td>4</td>\n",
       "      <td>11</td>\n",
       "    </tr>\n",
       "  </tbody>\n",
       "</table>\n",
       "</div>"
      ],
      "text/plain": [
       "      target                                               text  line_number  \\\n",
       "0  OBJECTIVE  to investigate the efficacy of @ weeks of dail...            0   \n",
       "1    METHODS  a total of @ patients with primary knee oa wer...            1   \n",
       "2    METHODS  outcome measures included pain reduction and i...            2   \n",
       "3    METHODS  pain was assessed using the visual analog pain...            3   \n",
       "4    METHODS  secondary outcome measures included the wester...            4   \n",
       "\n",
       "   total_lines  \n",
       "0           11  \n",
       "1           11  \n",
       "2           11  \n",
       "3           11  \n",
       "4           11  "
      ]
     },
     "execution_count": 223,
     "metadata": {},
     "output_type": "execute_result"
    }
   ],
   "source": [
    "train_df.head()"
   ]
  },
  {
   "cell_type": "code",
   "execution_count": 224,
   "id": "7f09c082",
   "metadata": {},
   "outputs": [
    {
     "data": {
      "image/png": "[encoded data removed]",
      "text/plain": [
       "<Figure size 640x480 with 1 Axes>"
      ]
     },
     "metadata": {},
     "output_type": "display_data"
    }
   ],
   "source": [
    "plt.hist(train_df['line_number'],bins=10)\n",
    "plt.show()"
   ]
  },
  {
   "cell_type": "code",
   "execution_count": 225,
   "id": "6e38322d",
   "metadata": {},
   "outputs": [
    {
     "data": {
      "text/plain": [
       "<tf.Tensor: shape=(9, 15), dtype=float32, numpy=\n",
       "array([[0., 0., 0., 0., 0., 0., 0., 0., 1., 0., 0., 0., 0., 0., 0.],\n",
       "       [0., 0., 0., 0., 0., 0., 0., 0., 0., 1., 0., 0., 0., 0., 0.],\n",
       "       [0., 0., 0., 0., 0., 0., 0., 0., 0., 0., 1., 0., 0., 0., 0.],\n",
       "       [1., 0., 0., 0., 0., 0., 0., 0., 0., 0., 0., 0., 0., 0., 0.],\n",
       "       [0., 1., 0., 0., 0., 0., 0., 0., 0., 0., 0., 0., 0., 0., 0.],\n",
       "       [0., 0., 1., 0., 0., 0., 0., 0., 0., 0., 0., 0., 0., 0., 0.],\n",
       "       [0., 0., 0., 1., 0., 0., 0., 0., 0., 0., 0., 0., 0., 0., 0.],\n",
       "       [0., 0., 0., 0., 1., 0., 0., 0., 0., 0., 0., 0., 0., 0., 0.],\n",
       "       [0., 0., 0., 0., 0., 1., 0., 0., 0., 0., 0., 0., 0., 0., 0.]],\n",
       "      dtype=float32)>"
      ]
     },
     "execution_count": 225,
     "metadata": {},
     "output_type": "execute_result"
    }
   ],
   "source": [
    "# Create One-hot-encoded Line_Numbers\n",
    "\n",
    "train_line_numbers_one_hot=tf.one_hot(train_df['line_number'].to_numpy(),depth=15)\n",
    "val_line_numbers_one_hot=tf.one_hot(val_df['line_number'].to_numpy(),depth=15)\n",
    "test_line_numbers_one_hot=tf.one_hot(test_df['line_number'].to_numpy(),depth=15)\n",
    "\n",
    "train_line_numbers_one_hot[20:29]"
   ]
  },
  {
   "cell_type": "code",
   "execution_count": 226,
   "id": "78993eff",
   "metadata": {},
   "outputs": [
    {
     "data": {
      "image/png": "[encoded data removed]",
      "text/plain": [
       "<Figure size 640x480 with 1 Axes>"
      ]
     },
     "metadata": {},
     "output_type": "display_data"
    }
   ],
   "source": [
    "plt.hist(train_df['total_lines'])\n",
    "plt.show()"
   ]
  },
  {
   "cell_type": "code",
   "execution_count": 227,
   "id": "1ddbdde0",
   "metadata": {},
   "outputs": [
    {
     "data": {
      "text/plain": [
       "18.0"
      ]
     },
     "execution_count": 227,
     "metadata": {},
     "output_type": "execute_result"
    }
   ],
   "source": [
    "# How many lines cover 95% of total lines\n",
    "\n",
    "np.percentile(train_df['total_lines'],95)"
   ]
  },
  {
   "cell_type": "code",
   "execution_count": 228,
   "id": "1a4c52ac",
   "metadata": {},
   "outputs": [
    {
     "data": {
      "text/plain": [
       "30"
      ]
     },
     "execution_count": 228,
     "metadata": {},
     "output_type": "execute_result"
    }
   ],
   "source": [
    "train_df['total_lines'].max()"
   ]
  },
  {
   "cell_type": "code",
   "execution_count": 229,
   "id": "9c4bfaf2",
   "metadata": {},
   "outputs": [
    {
     "data": {
      "text/plain": [
       "0    11\n",
       "1    11\n",
       "2    11\n",
       "3    11\n",
       "4    11\n",
       "5    11\n",
       "6    11\n",
       "7    11\n",
       "8    11\n",
       "9    11\n",
       "Name: total_lines, dtype: int64"
      ]
     },
     "execution_count": 229,
     "metadata": {},
     "output_type": "execute_result"
    }
   ],
   "source": [
    "train_df['total_lines'][:10]"
   ]
  },
  {
   "cell_type": "code",
   "execution_count": 230,
   "id": "4be71c73",
   "metadata": {},
   "outputs": [
    {
     "data": {
      "text/plain": [
       "<tf.Tensor: shape=(10, 20), dtype=float32, numpy=\n",
       "array([[0., 0., 0., 0., 0., 0., 0., 0., 0., 0., 0., 1., 0., 0., 0., 0.,\n",
       "        0., 0., 0., 0.],\n",
       "       [0., 0., 0., 0., 0., 0., 0., 0., 0., 0., 0., 1., 0., 0., 0., 0.,\n",
       "        0., 0., 0., 0.],\n",
       "       [0., 0., 0., 0., 0., 0., 0., 0., 0., 0., 1., 0., 0., 0., 0., 0.,\n",
       "        0., 0., 0., 0.],\n",
       "       [0., 0., 0., 0., 0., 0., 0., 0., 0., 0., 1., 0., 0., 0., 0., 0.,\n",
       "        0., 0., 0., 0.],\n",
       "       [0., 0., 0., 0., 0., 0., 0., 0., 0., 0., 1., 0., 0., 0., 0., 0.,\n",
       "        0., 0., 0., 0.],\n",
       "       [0., 0., 0., 0., 0., 0., 0., 0., 0., 0., 1., 0., 0., 0., 0., 0.,\n",
       "        0., 0., 0., 0.],\n",
       "       [0., 0., 0., 0., 0., 0., 0., 0., 0., 0., 1., 0., 0., 0., 0., 0.,\n",
       "        0., 0., 0., 0.],\n",
       "       [0., 0., 0., 0., 0., 0., 0., 0., 0., 0., 1., 0., 0., 0., 0., 0.,\n",
       "        0., 0., 0., 0.],\n",
       "       [0., 0., 0., 0., 0., 0., 0., 0., 0., 0., 1., 0., 0., 0., 0., 0.,\n",
       "        0., 0., 0., 0.],\n",
       "       [0., 0., 0., 0., 0., 0., 0., 0., 0., 0., 1., 0., 0., 0., 0., 0.,\n",
       "        0., 0., 0., 0.]], dtype=float32)>"
      ]
     },
     "execution_count": 230,
     "metadata": {},
     "output_type": "execute_result"
    }
   ],
   "source": [
    "# Create One-hot-encoding for Total_lines\n",
    "\n",
    "train_total_lines_one_hot=tf.one_hot(train_df['total_lines'].to_numpy(),depth=20)\n",
    "val_total_lines_one_hot=tf.one_hot(val_df['total_lines'].to_numpy(),depth=20)\n",
    "test_total_lines_one_hot=tf.one_hot(test_df['total_lines'].to_numpy(),depth=20)\n",
    "\n",
    "train_total_lines_one_hot[10:20]"
   ]
  },
  {
   "cell_type": "code",
   "execution_count": 231,
   "id": "ce36525c",
   "metadata": {},
   "outputs": [],
   "source": [
    "# Building Tribrid Model\n",
    "import tensorflow_hub as hub\n",
    "embed = hub.load(\"https://tfhub.dev/google/universal-sentence-encoder/4\")\n",
    "\n",
    "# Token Inputs\n",
    "token_inputs=tf.keras.Input(shape=[],dtype='string',name='token_inputs')\n",
    "token_embeddings=sentence_encoder_layer(token_inputs)\n",
    "token_outputs=tf.keras.layers.Dense(128,activation='relu')(token_embeddings)\n",
    "token_model=tf.keras.Model(inputs=token_inputs,outputs=token_outputs)\n",
    "\n",
    "# Char Inputs\n",
    "char_inputs=tf.keras.Input(shape=(1,),dtype='string',name='char_inputs')\n",
    "char_vectors=char_vectorizer(char_inputs)\n",
    "char_embeddings=char_token_embed(char_vectors)\n",
    "char_bi_lstm=tf.keras.layers.Bidirectional(layers.LSTM(24))(char_embeddings)\n",
    "char_model=tf.keras.Model(char_inputs,char_bi_lstm)\n",
    "\n",
    "# Line_Number Inputs\n",
    "line_number_inputs=tf.keras.Input(shape=(15,),dtype=tf.float32,name='Line_number_inputs')\n",
    "line_number_outputs=tf.keras.layers.Dense(32,activation='relu')(line_number_inputs)\n",
    "line_number_model=tf.keras.Model(line_number_inputs,line_number_outputs)\n",
    "\n",
    "# Total_Lines Input\n",
    "total_lines_inputs=tf.keras.Input(shape=(20,),dtype=tf.float32,name='Total_lines_input')\n",
    "total_lines_outpus=tf.keras.layers.Dense(32,activation='relu')(total_lines_inputs)\n",
    "total_line_model=tf.keras.Model(total_lines_inputs,total_lines_outpus)\n",
    "\n",
    "\n",
    "# Combine token and Char Embeddings into a hybrid embeddings\n",
    "token_char_combine=tf.keras.layers.Concatenate(name='token_char_combine')([token_model.output,char_model.output])\n",
    "\n",
    "\n",
    "z=tf.keras.layers.Dense(32,activation='relu')(token_char_combine)\n",
    "z=tf.keras.layers.Dropout(.5)(z)\n",
    "\n",
    "\n",
    "# Combine positional embedding with token and char embeddings\n",
    "trybrid_embeddings=tf.keras.layers.Concatenate(name='positional_token_char_combine')([line_number_model.output,\n",
    "                                                                                  total_line_model.output,z])\n",
    "\n",
    "# Create output layer\n",
    "output_layer=tf.keras.layers.Dense(len(class_names),activation='softmax',name='Output_layer')(trybrid_embeddings)\n",
    "\n",
    "# Create Model\n",
    "model_5=tf.keras.Model(inputs=[token_model.input,char_model.input,line_number_model.input,total_line_model.input],outputs=output_layer,\n",
    "                      name='positional_token_char_embedded_model')"
   ]
  },
  {
   "cell_type": "code",
   "execution_count": 232,
   "id": "e96a4ffc",
   "metadata": {},
   "outputs": [
    {
     "name": "stdout",
     "output_type": "stream",
     "text": [
      "Model: \"positional_token_char_embedded_model\"\n",
      "__________________________________________________________________________________________________\n",
      " Layer (type)                Output Shape                 Param #   Connected to                  \n",
      "==================================================================================================\n",
      " char_inputs (InputLayer)    [(None, 1)]                  0         []                            \n",
      "                                                                                                  \n",
      " token_inputs (InputLayer)   [(None,)]                    0         []                            \n",
      "                                                                                                  \n",
      " char_vectorizer (TextVecto  (None, 290)                  0         ['char_inputs[0][0]']         \n",
      " rization)                                                                                        \n",
      "                                                                                                  \n",
      " USE (KerasLayer)            (None, 512)                  2567978   ['token_inputs[0][0]']        \n",
      "                                                          24                                      \n",
      "                                                                                                  \n",
      " CharacterEmbedding (Embedd  (None, 290, 25)              700       ['char_vectorizer[2][0]']     \n",
      " ing)                                                                                             \n",
      "                                                                                                  \n",
      " dense_18 (Dense)            (None, 128)                  65664     ['USE[2][0]']                 \n",
      "                                                                                                  \n",
      " bidirectional_3 (Bidirecti  (None, 48)                   9600      ['CharacterEmbedding[2][0]']  \n",
      " onal)                                                                                            \n",
      "                                                                                                  \n",
      " token_char_combine (Concat  (None, 176)                  0         ['dense_18[0][0]',            \n",
      " enate)                                                              'bidirectional_3[0][0]']     \n",
      "                                                                                                  \n",
      " Line_number_inputs (InputL  [(None, 15)]                 0         []                            \n",
      " ayer)                                                                                            \n",
      "                                                                                                  \n",
      " Total_lines_input (InputLa  [(None, 20)]                 0         []                            \n",
      " yer)                                                                                             \n",
      "                                                                                                  \n",
      " dense_21 (Dense)            (None, 32)                   5664      ['token_char_combine[0][0]']  \n",
      "                                                                                                  \n",
      " dense_19 (Dense)            (None, 32)                   512       ['Line_number_inputs[0][0]']  \n",
      "                                                                                                  \n",
      " dense_20 (Dense)            (None, 32)                   672       ['Total_lines_input[0][0]']   \n",
      "                                                                                                  \n",
      " dropout_5 (Dropout)         (None, 32)                   0         ['dense_21[0][0]']            \n",
      "                                                                                                  \n",
      " positional_token_char_comb  (None, 96)                   0         ['dense_19[0][0]',            \n",
      " ine (Concatenate)                                                   'dense_20[0][0]',            \n",
      "                                                                     'dropout_5[0][0]']           \n",
      "                                                                                                  \n",
      " Output_layer (Dense)        (None, 5)                    485       ['positional_token_char_combin\n",
      "                                                                    e[0][0]']                     \n",
      "                                                                                                  \n",
      "==================================================================================================\n",
      "Total params: 256881121 (979.92 MB)\n",
      "Trainable params: 83297 (325.38 KB)\n",
      "Non-trainable params: 256797824 (979.61 MB)\n",
      "__________________________________________________________________________________________________\n"
     ]
    }
   ],
   "source": [
    "model_5.summary()"
   ]
  },
  {
   "cell_type": "code",
   "execution_count": 236,
   "id": "c419677f",
   "metadata": {},
   "outputs": [
    {
     "name": "stdout",
     "output_type": "stream",
     "text": [
      "You must install pydot (`pip install pydot`) and install graphviz (see instructions at https://graphviz.gitlab.io/download/) for plot_model to work.\n"
     ]
    }
   ],
   "source": [
    "plot_model(model_5)"
   ]
  },
  {
   "cell_type": "code",
   "execution_count": 237,
   "id": "3ce265aa",
   "metadata": {},
   "outputs": [],
   "source": [
    "# Compile Model_5\n",
    "\n",
    "model_5.compile(loss=tf.keras.losses.categorical_crossentropy,\n",
    "               optimizer='Adam',\n",
    "               metrics='Accuracy')"
   ]
  },
  {
   "cell_type": "code",
   "execution_count": 238,
   "id": "547b646c",
   "metadata": {},
   "outputs": [],
   "source": [
    "# Creating Dataset with tokens, chars, line_number and total_lines data\n",
    "\n",
    "\n",
    "train_token_char_line_no_total_lines_data=tf.data.Dataset.from_tensor_slices((train_sentences,train_chars,train_line_numbers_one_hot,train_total_lines_one_hot))\n",
    "train_token_char_line_no_total_lines_dataset=tf.data.Dataset.zip((train_token_char_line_no_total_lines_data,train_token_char_labels))\n",
    "\n",
    "val_token_char_line_no_total_lines_data=tf.data.Dataset.from_tensor_slices((val_sentences,val_chars,val_line_numbers_one_hot,val_total_lines_one_hot))\n",
    "val_token_char_line_no_total_lines_dataset=tf.data.Dataset.zip((val_token_char_line_no_total_lines_data,val_token_char_labels))\n",
    "\n",
    "\n",
    "test_token_char_line_no_total_lines_data=tf.data.Dataset.from_tensor_slices((test_sentences,test_chars,test_line_numbers_one_hot,test_total_lines_one_hot))\n",
    "test_token_char_line_no_total_lines_dataset=tf.data.Dataset.zip((test_token_char_line_no_total_lines_data,test_token_char_labels))"
   ]
  },
  {
   "cell_type": "code",
   "execution_count": 239,
   "id": "3a664239",
   "metadata": {},
   "outputs": [],
   "source": [
    "# Prefetch and batch datasets:\n",
    "\n",
    "train_token_char_line_no_total_lines_dataset=train_token_char_line_no_total_lines_dataset.batch(32).prefetch(tf.data.AUTOTUNE)\n",
    "test_token_char_line_no_total_lines_dataset=test_token_char_line_no_total_lines_dataset.batch(32).prefetch(tf.data.AUTOTUNE)\n",
    "val_token_char_line_no_total_lines_dataset=val_token_char_line_no_total_lines_dataset.batch(32).prefetch(tf.data.AUTOTUNE)"
   ]
  },
  {
   "cell_type": "code",
   "execution_count": 240,
   "id": "23acb3dc",
   "metadata": {},
   "outputs": [
    {
     "data": {
      "text/plain": [
       "<_PrefetchDataset element_spec=((TensorSpec(shape=(None,), dtype=tf.string, name=None), TensorSpec(shape=(None,), dtype=tf.string, name=None), TensorSpec(shape=(None, 15), dtype=tf.float32, name=None), TensorSpec(shape=(None, 20), dtype=tf.float32, name=None)), TensorSpec(shape=(None, 5), dtype=tf.float64, name=None))>"
      ]
     },
     "execution_count": 240,
     "metadata": {},
     "output_type": "execute_result"
    }
   ],
   "source": [
    "train_token_char_line_no_total_lines_dataset"
   ]
  },
  {
   "cell_type": "code",
   "execution_count": 241,
   "id": "481bd065",
   "metadata": {},
   "outputs": [
    {
     "name": "stdout",
     "output_type": "stream",
     "text": [
      "Epoch 1/3\n",
      "562/562 [==============================] - 259s 446ms/step - loss: 0.8435 - Accuracy: 0.6768 - val_loss: 0.5647 - val_Accuracy: 0.7902\n",
      "Epoch 2/3\n",
      "562/562 [==============================] - 701s 1s/step - loss: 0.5607 - Accuracy: 0.7855 - val_loss: 0.4871 - val_Accuracy: 0.8198\n",
      "Epoch 3/3\n",
      "562/562 [==============================] - 216s 384ms/step - loss: 0.5137 - Accuracy: 0.8014 - val_loss: 0.4618 - val_Accuracy: 0.8215\n"
     ]
    }
   ],
   "source": [
    "# Fitting Model_5\n",
    "\n",
    "history_model_5=model_5.fit(train_token_char_line_no_total_lines_dataset,epochs=3,steps_per_epoch=int(.1*len(train_token_char_line_no_total_lines_dataset)),\n",
    "                           validation_data=val_token_char_line_no_total_lines_dataset,\n",
    "                           validation_steps=int(.1*len(val_token_char_line_no_total_lines_dataset)))"
   ]
  },
  {
   "cell_type": "code",
   "execution_count": 242,
   "id": "21cf058c",
   "metadata": {},
   "outputs": [
    {
     "name": "stdout",
     "output_type": "stream",
     "text": [
      "945/945 [==============================] - 118s 124ms/step - loss: 0.4583 - Accuracy: 0.8184\n"
     ]
    },
    {
     "data": {
      "text/plain": [
       "[0.45830556750297546, 0.8183503150939941]"
      ]
     },
     "execution_count": 242,
     "metadata": {},
     "output_type": "execute_result"
    }
   ],
   "source": [
    "model_5.evaluate(val_token_char_line_no_total_lines_dataset)"
   ]
  },
  {
   "cell_type": "code",
   "execution_count": 243,
   "id": "0b5de4b8",
   "metadata": {},
   "outputs": [
    {
     "name": "stdout",
     "output_type": "stream",
     "text": [
      "945/945 [==============================] - 121s 123ms/step\n"
     ]
    }
   ],
   "source": [
    "model5_preds=model_5.predict(val_token_char_line_no_total_lines_dataset)\n",
    "model5_preds=tf.argmax(model5_preds,axis=1)\n",
    "\n"
   ]
  },
  {
   "cell_type": "code",
   "execution_count": 244,
   "id": "5158e58c",
   "metadata": {},
   "outputs": [
    {
     "data": {
      "text/plain": [
       "{'accuracy': 81.83503243744208,\n",
       " 'precision': 0.8184382239843909,\n",
       " 'recall': 0.8183503243744208,\n",
       " 'f1': 0.8178095035607814}"
      ]
     },
     "execution_count": 244,
     "metadata": {},
     "output_type": "execute_result"
    }
   ],
   "source": [
    "model_5_results=calculate_results(val_label_le,model5_preds)\n",
    "model_5_results"
   ]
  },
  {
   "cell_type": "markdown",
   "id": "8e27de52",
   "metadata": {},
   "source": [
    "# Compare all model results"
   ]
  },
  {
   "cell_type": "code",
   "execution_count": 245,
   "id": "96d33367",
   "metadata": {},
   "outputs": [
    {
     "data": {
      "text/html": [
       "<div>\n",
       "<style scoped>\n",
       "    .dataframe tbody tr th:only-of-type {\n",
       "        vertical-align: middle;\n",
       "    }\n",
       "\n",
       "    .dataframe tbody tr th {\n",
       "        vertical-align: top;\n",
       "    }\n",
       "\n",
       "    .dataframe thead th {\n",
       "        text-align: right;\n",
       "    }\n",
       "</style>\n",
       "<table border=\"1\" class=\"dataframe\">\n",
       "  <thead>\n",
       "    <tr style=\"text-align: right;\">\n",
       "      <th></th>\n",
       "      <th>accuracy</th>\n",
       "      <th>precision</th>\n",
       "      <th>recall</th>\n",
       "      <th>f1</th>\n",
       "    </tr>\n",
       "  </thead>\n",
       "  <tbody>\n",
       "    <tr>\n",
       "      <th>model_0_baseline</th>\n",
       "      <td>72.183238</td>\n",
       "      <td>0.718647</td>\n",
       "      <td>0.721832</td>\n",
       "      <td>0.698925</td>\n",
       "    </tr>\n",
       "    <tr>\n",
       "      <th>model_1_custom_token_embedding</th>\n",
       "      <td>78.750165</td>\n",
       "      <td>0.784833</td>\n",
       "      <td>0.787502</td>\n",
       "      <td>0.785531</td>\n",
       "    </tr>\n",
       "    <tr>\n",
       "      <th>model_2_pretrained_token_embedding</th>\n",
       "      <td>71.239905</td>\n",
       "      <td>0.712556</td>\n",
       "      <td>0.712399</td>\n",
       "      <td>0.709302</td>\n",
       "    </tr>\n",
       "    <tr>\n",
       "      <th>model_3_custom_char_embedding</th>\n",
       "      <td>60.942672</td>\n",
       "      <td>0.602344</td>\n",
       "      <td>0.609427</td>\n",
       "      <td>0.594817</td>\n",
       "    </tr>\n",
       "    <tr>\n",
       "      <th>model_4_token+char_embedding</th>\n",
       "      <td>73.520455</td>\n",
       "      <td>0.735585</td>\n",
       "      <td>0.735205</td>\n",
       "      <td>0.733639</td>\n",
       "    </tr>\n",
       "    <tr>\n",
       "      <th>model_4_pretrained_token_custom_char_feature_engg</th>\n",
       "      <td>81.835032</td>\n",
       "      <td>0.818438</td>\n",
       "      <td>0.818350</td>\n",
       "      <td>0.817810</td>\n",
       "    </tr>\n",
       "  </tbody>\n",
       "</table>\n",
       "</div>"
      ],
      "text/plain": [
       "                                                    accuracy  precision  \\\n",
       "model_0_baseline                                   72.183238   0.718647   \n",
       "model_1_custom_token_embedding                     78.750165   0.784833   \n",
       "model_2_pretrained_token_embedding                 71.239905   0.712556   \n",
       "model_3_custom_char_embedding                      60.942672   0.602344   \n",
       "model_4_token+char_embedding                       73.520455   0.735585   \n",
       "model_4_pretrained_token_custom_char_feature_engg  81.835032   0.818438   \n",
       "\n",
       "                                                     recall        f1  \n",
       "model_0_baseline                                   0.721832  0.698925  \n",
       "model_1_custom_token_embedding                     0.787502  0.785531  \n",
       "model_2_pretrained_token_embedding                 0.712399  0.709302  \n",
       "model_3_custom_char_embedding                      0.609427  0.594817  \n",
       "model_4_token+char_embedding                       0.735205  0.733639  \n",
       "model_4_pretrained_token_custom_char_feature_engg  0.818350  0.817810  "
      ]
     },
     "execution_count": 245,
     "metadata": {},
     "output_type": "execute_result"
    }
   ],
   "source": [
    "all_model_results=pd.DataFrame({'model_0_baseline':model_0_results, 'model_1_custom_token_embedding':model_1_results,\n",
    "                                'model_2_pretrained_token_embedding':model_2_results,\n",
    "                               'model_3_custom_char_embedding':model_3_results,'model_4_token+char_embedding':model_4_results,\n",
    "                               'model_4_pretrained_token_custom_char_feature_engg': model_5_results})\n",
    "\n",
    "all_model_results=all_model_results.T\n",
    "all_model_results"
   ]
  },
  {
   "cell_type": "code",
   "execution_count": 246,
   "id": "e943fb27",
   "metadata": {},
   "outputs": [
    {
     "data": {
      "text/html": [
       "<div>\n",
       "<style scoped>\n",
       "    .dataframe tbody tr th:only-of-type {\n",
       "        vertical-align: middle;\n",
       "    }\n",
       "\n",
       "    .dataframe tbody tr th {\n",
       "        vertical-align: top;\n",
       "    }\n",
       "\n",
       "    .dataframe thead th {\n",
       "        text-align: right;\n",
       "    }\n",
       "</style>\n",
       "<table border=\"1\" class=\"dataframe\">\n",
       "  <thead>\n",
       "    <tr style=\"text-align: right;\">\n",
       "      <th></th>\n",
       "      <th>accuracy</th>\n",
       "      <th>precision</th>\n",
       "      <th>recall</th>\n",
       "      <th>f1</th>\n",
       "    </tr>\n",
       "  </thead>\n",
       "  <tbody>\n",
       "    <tr>\n",
       "      <th>model_0_baseline</th>\n",
       "      <td>0.721832</td>\n",
       "      <td>0.718647</td>\n",
       "      <td>0.721832</td>\n",
       "      <td>0.698925</td>\n",
       "    </tr>\n",
       "    <tr>\n",
       "      <th>model_1_custom_token_embedding</th>\n",
       "      <td>0.787502</td>\n",
       "      <td>0.784833</td>\n",
       "      <td>0.787502</td>\n",
       "      <td>0.785531</td>\n",
       "    </tr>\n",
       "    <tr>\n",
       "      <th>model_2_pretrained_token_embedding</th>\n",
       "      <td>0.712399</td>\n",
       "      <td>0.712556</td>\n",
       "      <td>0.712399</td>\n",
       "      <td>0.709302</td>\n",
       "    </tr>\n",
       "    <tr>\n",
       "      <th>model_3_custom_char_embedding</th>\n",
       "      <td>0.609427</td>\n",
       "      <td>0.602344</td>\n",
       "      <td>0.609427</td>\n",
       "      <td>0.594817</td>\n",
       "    </tr>\n",
       "    <tr>\n",
       "      <th>model_4_token+char_embedding</th>\n",
       "      <td>0.735205</td>\n",
       "      <td>0.735585</td>\n",
       "      <td>0.735205</td>\n",
       "      <td>0.733639</td>\n",
       "    </tr>\n",
       "    <tr>\n",
       "      <th>model_4_pretrained_token_custom_char_feature_engg</th>\n",
       "      <td>0.818350</td>\n",
       "      <td>0.818438</td>\n",
       "      <td>0.818350</td>\n",
       "      <td>0.817810</td>\n",
       "    </tr>\n",
       "  </tbody>\n",
       "</table>\n",
       "</div>"
      ],
      "text/plain": [
       "                                                   accuracy  precision  \\\n",
       "model_0_baseline                                   0.721832   0.718647   \n",
       "model_1_custom_token_embedding                     0.787502   0.784833   \n",
       "model_2_pretrained_token_embedding                 0.712399   0.712556   \n",
       "model_3_custom_char_embedding                      0.609427   0.602344   \n",
       "model_4_token+char_embedding                       0.735205   0.735585   \n",
       "model_4_pretrained_token_custom_char_feature_engg  0.818350   0.818438   \n",
       "\n",
       "                                                     recall        f1  \n",
       "model_0_baseline                                   0.721832  0.698925  \n",
       "model_1_custom_token_embedding                     0.787502  0.785531  \n",
       "model_2_pretrained_token_embedding                 0.712399  0.709302  \n",
       "model_3_custom_char_embedding                      0.609427  0.594817  \n",
       "model_4_token+char_embedding                       0.735205  0.733639  \n",
       "model_4_pretrained_token_custom_char_feature_engg  0.818350  0.817810  "
      ]
     },
     "execution_count": 246,
     "metadata": {},
     "output_type": "execute_result"
    }
   ],
   "source": [
    "all_model_results['accuracy']=all_model_results['accuracy']/100\n",
    "\n",
    "all_model_results"
   ]
  },
  {
   "cell_type": "code",
   "execution_count": 247,
   "id": "0867e4e6",
   "metadata": {},
   "outputs": [
    {
     "data": {
      "text/plain": [
       "<Figure size 1000x500 with 0 Axes>"
      ]
     },
     "metadata": {},
     "output_type": "display_data"
    },
    {
     "data": {
      "image/png": "[encoded data removed]",
      "text/plain": [
       "<Figure size 640x480 with 1 Axes>"
      ]
     },
     "metadata": {},
     "output_type": "display_data"
    }
   ],
   "source": [
    "# Plot and compare all models:\n",
    "fig = plt.figure(figsize = (10, 5));\n",
    "\n",
    "all_model_results.plot(kind='bar').legend(bbox_to_anchor=(1,1));\n",
    "#plt.show();"
   ]
  },
  {
   "cell_type": "code",
   "execution_count": 248,
   "id": "f52a612c",
   "metadata": {},
   "outputs": [
    {
     "data": {
      "image/png": "[encoded data removed]",
      "text/plain": [
       "<Figure size 1000x700 with 1 Axes>"
      ]
     },
     "metadata": {},
     "output_type": "display_data"
    }
   ],
   "source": [
    "# Sort model results by F1-Score\n",
    "\n",
    "all_model_results.sort_values('f1',ascending=True)['f1'].plot(kind='bar',figsize=(10,7));"
   ]
  },
  {
   "cell_type": "markdown",
   "id": "651d5e72",
   "metadata": {},
   "source": [
    "# Model_6 Custom Token+ Char + Positional Embedding"
   ]
  },
  {
   "cell_type": "code",
   "execution_count": 249,
   "id": "bd86f678",
   "metadata": {},
   "outputs": [
    {
     "name": "stdout",
     "output_type": "stream",
     "text": [
      "(None, 55, 64)\n",
      "(None, 64)\n",
      "(None, 128)\n"
     ]
    }
   ],
   "source": [
    "# Building Tribrid Model\n",
    "\n",
    "\n",
    "# Token Inputs\n",
    "#inputs=layers.Input(shape=(1,),dtype='string')\n",
    "#x=vectorize_layer(inputs)\n",
    "#x=token_embed(x)\n",
    "#token_outputs=layers.Conv1D(64,kernel_size=5,padding='same',activation='relu')(x)\n",
    "#x=layers.GlobalAveragePooling1D()(x)\n",
    "#token_outputs=layers.Dense(128,activation='relu')(x)\n",
    "#token_model1=tf.keras.Model(inputs,token_outputs,name='CNN1D_Model1')\n",
    "\n",
    "\n",
    "inputs=layers.Input(shape=(1,),dtype='string')\n",
    "x=vectorize_layer(inputs)\n",
    "x=token_embed(x)\n",
    "x=layers.Conv1D(64,kernel_size=5,padding='same',activation='relu')(x)\n",
    "print(x.shape)\n",
    "x=layers.GlobalAveragePooling1D()(x)\n",
    "print(x.shape)\n",
    "outputs=layers.Dense(128,activation='relu')(x)\n",
    "print(outputs.shape)\n",
    "model_1=tf.keras.Model(inputs,outputs,name='CNN1D_Model1')\n",
    "\n",
    "\n",
    "\n",
    "\n",
    "\n",
    "\n",
    "# Char Inputs\n",
    "char_inputs=tf.keras.Input(shape=(1,),dtype='string',name='char_inputs')\n",
    "char_vectors=char_vectorizer(char_inputs)\n",
    "char_embeddings=char_token_embed(char_vectors)\n",
    "char_bi_lstm=tf.keras.layers.Bidirectional(layers.LSTM(24))(char_embeddings)\n",
    "char_model=tf.keras.Model(char_inputs,char_bi_lstm)\n",
    "\n",
    "# Line_Number Inputs\n",
    "line_number_inputs=tf.keras.Input(shape=(15,),dtype=tf.float32,name='Line_number_inputs')\n",
    "line_number_outputs=tf.keras.layers.Dense(32,activation='relu')(line_number_inputs)\n",
    "line_number_model=tf.keras.Model(line_number_inputs,line_number_outputs)\n",
    "\n",
    "# Total_Lines Input\n",
    "total_lines_inputs=tf.keras.Input(shape=(20,),dtype=tf.float32,name='Total_lines_input')\n",
    "total_lines_outpus=tf.keras.layers.Dense(32,activation='relu')(total_lines_inputs)\n",
    "total_line_model=tf.keras.Model(total_lines_inputs,total_lines_outpus)\n",
    "\n",
    "\n",
    "# Combine token and Char Embeddings into a hybrid embeddings\n",
    "token_char_combine=tf.keras.layers.Concatenate(name='token_char_combine')([model_1.output,char_model.output])\n",
    "\n",
    "\n",
    "z=tf.keras.layers.Dense(32,activation='relu')(token_char_combine)\n",
    "z=tf.keras.layers.Dropout(.5)(z)\n",
    "\n",
    "\n",
    "# Combine positional embedding with token and char embeddings\n",
    "trybrid_embeddings=tf.keras.layers.Concatenate(name='positional_token_char_combine')([line_number_model.output,\n",
    "                                                                                  total_line_model.output,z])\n",
    "\n",
    "# Create output layer\n",
    "output_layer=tf.keras.layers.Dense(len(class_names),activation='softmax',name='Output_layer')(trybrid_embeddings)\n",
    "\n",
    "# Create Model\n",
    "model_6=tf.keras.Model(inputs=[model_1.input,char_model.input,line_number_model.input,total_line_model.input],outputs=output_layer,\n",
    "                      name='positional_token_embedded_model6')"
   ]
  },
  {
   "cell_type": "code",
   "execution_count": 250,
   "id": "d262693d",
   "metadata": {},
   "outputs": [],
   "source": [
    "# Compile Model_6\n",
    "\n",
    "model_6.compile(loss=tf.keras.losses.categorical_crossentropy,\n",
    "               optimizer='Adam',\n",
    "               metrics='Accuracy')"
   ]
  },
  {
   "cell_type": "code",
   "execution_count": 251,
   "id": "2ea8031a",
   "metadata": {},
   "outputs": [],
   "source": [
    "# Creating Dataset with tokens, chars, line_number and total_lines data\n",
    "\n",
    "\n",
    "train_CNN_char_line_no_total_lines_data=tf.data.Dataset.from_tensor_slices((train_sentences,train_chars,train_line_numbers_one_hot,train_total_lines_one_hot))\n",
    "train_CNN_char_line_no_total_lines_dataset=tf.data.Dataset.zip((train_CNN_char_line_no_total_lines_data,train_token_char_labels))\n",
    "\n",
    "val_CNN_char_line_no_total_lines_data=tf.data.Dataset.from_tensor_slices((val_sentences,val_chars,val_line_numbers_one_hot,val_total_lines_one_hot))\n",
    "val_CNN_char_line_no_total_lines_dataset=tf.data.Dataset.zip((val_CNN_char_line_no_total_lines_data,val_token_char_labels))\n",
    "\n",
    "# Prefetch and batch datasets:\n",
    "\n",
    "train_CNN_char_line_no_total_lines_dataset=train_CNN_char_line_no_total_lines_dataset.batch(32).prefetch(tf.data.AUTOTUNE)\n",
    "val_CNN_char_line_no_total_lines_dataset=val_CNN_char_line_no_total_lines_dataset.batch(32).prefetch(tf.data.AUTOTUNE)"
   ]
  },
  {
   "cell_type": "code",
   "execution_count": 252,
   "id": "db5fb685",
   "metadata": {},
   "outputs": [
    {
     "name": "stdout",
     "output_type": "stream",
     "text": [
      "Epoch 1/3\n",
      "562/562 [==============================] - 177s 289ms/step - loss: 0.6596 - Accuracy: 0.7585 - val_loss: 0.5001 - val_Accuracy: 0.8122\n",
      "Epoch 2/3\n",
      "562/562 [==============================] - 163s 290ms/step - loss: 0.4298 - Accuracy: 0.8425 - val_loss: 0.4450 - val_Accuracy: 0.8251\n",
      "Epoch 3/3\n",
      "562/562 [==============================] - 162s 289ms/step - loss: 0.3892 - Accuracy: 0.8559 - val_loss: 0.4134 - val_Accuracy: 0.8358\n"
     ]
    }
   ],
   "source": [
    "# Fitting Model_6\n",
    "\n",
    "history_model_6=model_6.fit(train_CNN_char_line_no_total_lines_dataset,epochs=3,steps_per_epoch=int(.1*len(train_CNN_char_line_no_total_lines_dataset)),\n",
    "                           validation_data=val_CNN_char_line_no_total_lines_dataset,\n",
    "                           validation_steps=int(.1*len(val_CNN_char_line_no_total_lines_dataset)))"
   ]
  },
  {
   "cell_type": "code",
   "execution_count": null,
   "id": "f99e5b5b",
   "metadata": {},
   "outputs": [],
   "source": []
  }
 ],
 "metadata": {
  "kernelspec": {
   "display_name": "Python 3 (ipykernel)",
   "language": "python",
   "name": "python3"
  },
  "language_info": {
   "codemirror_mode": {
    "name": "ipython",
    "version": 3
   },
   "file_extension": ".py",
   "mimetype": "text/x-python",
   "name": "python",
   "nbconvert_exporter": "python",
   "pygments_lexer": "ipython3",
   "version": "3.10.9"
  }
 },
 "nbformat": 4,
 "nbformat_minor": 5
}
